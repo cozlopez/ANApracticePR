{
 "cells": [
  {
   "cell_type": "markdown",
   "metadata": {},
   "source": [
    "# Assignment B: Back to the moon"
   ]
  },
  {
   "cell_type": "markdown",
   "metadata": {},
   "source": [
    "It's been so long that we went to the moon, that we've forgetten how.  Your mission is to investigate the orbital mechanics we'll need to do it again.  Because the equations are quite a mess, we'll develop numerical methods for a simple pendulum you have in your garage, test them, and once they work properly, apply them to the space missions towards the end.\n",
    "\n",
    "You look carefully at your pendulum, have a little think, and decide that:\n",
    "\n",
    "$$m \\ddot{\\phi} = - \\frac{mg}{l}\\sin(\\phi) - \\alpha l \\dot\\phi |l \\dot\\phi|$$\n",
    "\n",
    "is probably a pretty good model - where $\\phi(t)$ is the deflection angle in time, $g$ the gravitational accelertion, $l$ the length of the pendulum and $\\alpha$ the drag factor due to air resistance. Using the auxillary variables\n",
    "$$\n",
    "u_0 := \\phi, \\qquad\n",
    "u_1 := \\dot{\\phi} \n",
    "$$\n",
    "transform the ODE into a 1st-order system of the form $\\dot u = f(u)$.  Your first job is to implement $f$ and $\\partial f/\\partial u$:"
   ]
  },
  {
   "cell_type": "code",
   "execution_count": null,
   "metadata": {
    "collapsed": true
   },
   "outputs": [],
   "source": [
    "%matplotlib inline\n",
    "import numpy as np\n",
    "import matplotlib.pyplot as plt\n",
    "from copy import deepcopy\n",
    "from time import time"
   ]
  },
  {
   "cell_type": "code",
   "execution_count": null,
   "metadata": {
    "collapsed": true
   },
   "outputs": [],
   "source": [
    "l   = 1.            # (m) Length of pendulum\n",
    "g   = 9.81          # (m/s^2)\n",
    "m   = 0.001         # (kg) Mass of the bob\n",
    "rho = 1.225         # (kg/m^3) Density of air\n",
    "r   = 0.05          # (m) Radius of sphere\n",
    "A   = np.pi * r**2  # (m^2) Cross-secional area\n",
    "c_d = 0.47          # (.) Drag coefficient of a sphere\n",
    "\n",
    "alpha = c_d * rho * A / 2.   # Initially assume air-resitance is zero"
   ]
  },
  {
   "cell_type": "code",
   "execution_count": null,
   "metadata": {
    "collapsed": true
   },
   "outputs": [],
   "source": [
    "def f(u):\n",
    "    out = np.zeros(2)\n",
    "    ### TODO: define f(z)\n",
    "    raise NotImplementedError\n",
    "    return np.array(out)\n",
    "    \n",
    "def dfdu(u):\n",
    "    out = np.zeros((2,2))\n",
    "    ### TODO: define f'(z)\n",
    "    raise NotImplementedError\n",
    "    return np.array(out)"
   ]
  },
  {
   "cell_type": "markdown",
   "metadata": {},
   "source": [
    "## Attempt #1: Forward-Euler\n",
    "\n",
    "Let's start simple - implement a single step of forward-Euler:"
   ]
  },
  {
   "cell_type": "code",
   "execution_count": null,
   "metadata": {
    "collapsed": true
   },
   "outputs": [],
   "source": [
    "def fe(ui, f, dfdu, dt):\n",
    "    \"\"\"\n",
    "    Single step of forward-Euler.\n",
    "    \n",
    "    Args:\n",
    "        ui (np.array): State at time-step i\n",
    "        f (function): Fn f defining the ODE\n",
    "        dfdu (function): Fn returning the derivative of f (not used in FE, just\n",
    "                         for consistency with other methods)\n",
    "        dt (float): Time-step\n",
    "    Return:\n",
    "        u (np.array): State at timestep i+1\n",
    "    \"\"\"\n",
    "    ### TODO: implement forward-Euler\n",
    "    raise NotImplementedError"
   ]
  },
  {
   "cell_type": "markdown",
   "metadata": {},
   "source": [
    "Test your implementation with the following functions.  Fn `predict()` simulates the pendulum using a time-stepping function like `fe()`.  Fn `plot()` plots the time-history as computed by `predict()`."
   ]
  },
  {
   "cell_type": "code",
   "execution_count": null,
   "metadata": {
    "collapsed": true
   },
   "outputs": [],
   "source": [
    "def predict(u_0, f, dfdu, T_final, N, step_fn):\n",
    "    \"\"\"\n",
    "    Solve the ODE defined by f and dfdu in time, from initial condition `u_0`\n",
    "    to final time `T_final` with `N` time-steps, using `step_fn()` to obtain\n",
    "    $u_{i+1}$ from $u_i$ at each timestep.  Return array shaped (N+1, M)\n",
    "    containing the solution u at each time, including t=0.\n",
    "    \"\"\"\n",
    "    M = u_0.shape[0]\n",
    "    dt = T_final/N\n",
    "    u = np.zeros((N+1, M))\n",
    "    u[0,:] = u_0\n",
    "    for i in range(N):\n",
    "        u[i+1,:] = step_fn(u[i,:], f, dfdu, dt)\n",
    "    return u\n",
    "\n",
    "def plot(u, T_final):\n",
    "    \"\"\"Plot the output of `predict()`.\"\"\"\n",
    "    N = u.shape[0]-1\n",
    "    plt.plot(np.linspace(0,T_final,N+1), u[:,0]*180./np.pi, '-+')\n",
    "    plt.xlabel('t')\n",
    "    plt.ylabel('deg')"
   ]
  },
  {
   "cell_type": "markdown",
   "metadata": {},
   "source": [
    "With an initial offset of $60^\\circ$, choose a final time, and number of steps $N$ and simulate the pendulum with `predict()` and `plot()`:"
   ]
  },
  {
   "cell_type": "code",
   "execution_count": null,
   "metadata": {
    "collapsed": true
   },
   "outputs": [],
   "source": [
    "u_0 = np.array([60.*np.pi/180.,0])\n",
    "T_final = 10.   # (s) Final time\n",
    "N = 200       # (.) Number of time-steps\n",
    "dt = T_final / N\n",
    "# TODO: Run simulation with predict() and plot() results.\n",
    "raise NotImplementedError"
   ]
  },
  {
   "cell_type": "markdown",
   "metadata": {},
   "source": [
    "In order to check your solution, you should check if the result is physical - in partcular, if `alpha=0` (zero damping) energy is conserved, the pendulum amplitude should never change.  Is this the case in your simulation?  Check also for long times.  You should notice, that - even though your implementation *may* be correct - that the solution is always unphysical (growing in time) - though you might not notice if your `T_final` is not large enough!  To establish *why* - we need to analyse the stability of FE for this problem."
   ]
  },
  {
   "cell_type": "markdown",
   "metadata": {},
   "source": [
    "The function `plot_stability_region()` does just that, if you pass it a function as an argument that computes the amplification factor for your scheme.  E.g. for forward-Euler the function is: `def fe_stability(z): return 1+z`.  Test it.\n",
    "\n",
    "In order to determine if forward-Euler is stable, in addition to the stability region, we need the eigenvalues of $\\partial f/\\partial u \\cdot\\Delta t$.  If these are all in the stable region of the scheme, the method is stable.  Complete `plot_eigvals()` to plot these values on top of the stability region.  Use `np.linalg.eigvals()` for each time-step of the output of `predict()`.  This will result in a chain of points, all of which should be in the stability region."
   ]
  },
  {
   "cell_type": "code",
   "execution_count": null,
   "metadata": {
    "collapsed": true
   },
   "outputs": [],
   "source": [
    "def plot_stability_region(stabfn):\n",
    "    \"\"\"\n",
    "    Given a stability fn for a particular scheme, plot the stability region. \n",
    "    Green is unstable, white is stable.\n",
    "    \n",
    "    Args:\n",
    "      stabfn (function): Takes one complex argument, returns complex value. \n",
    "    \"\"\"\n",
    "    x = np.linspace(-4,4,100)\n",
    "    X = np.meshgrid(x, x)\n",
    "    z = X[0]+1j*X[1]\n",
    "    Rlevel = np.abs(stabfn(z))\n",
    "    plt.figure(figsize=(8,8))\n",
    "    plt.contourf(x,x,Rlevel,[1,1000])\n",
    "    plt.contour(x,x,Rlevel,[1,1000])\n",
    "    plt.xlabel(r'Re'); plt.ylabel(r'Im')\n",
    "    plt.plot([0,0],[-4,4], '-k')\n",
    "    plt.plot([-4,4],[0,0], '-k')\n",
    "    plt.axes().set_aspect('equal')\n",
    "    \n",
    "    \n",
    "def plot_eigvals(u, dfdu, dt):\n",
    "    \"\"\"\n",
    "    Plot the eigenvalues of $df/du \\cdot \\Delta t$, for all values of the solution u.\n",
    "    \n",
    "    Args:\n",
    "      u (array (N, M)): Solution array (real-valued) with N timesteps, M values per step.\n",
    "      dt (float): Timestep.\n",
    "    Return:\n",
    "      eigs (array (N, M)): Eigenvalue array (complex-valued) for each solution time.\n",
    "    \"\"\"\n",
    "    N, M = u.shape\n",
    "    eigs = np.zeros((N, M), dtype=np.complex)\n",
    "    # TODO: Compute and plot eigenvalues\n",
    "    raise NotImplementedError\n",
    "    return eigs"
   ]
  },
  {
   "cell_type": "markdown",
   "metadata": {},
   "source": [
    "Test your code by creating plots, and finally, by finding the largest amplificiation factor for `T_final = 10`, `N = 200`, and unchanged physcial conditions (i.e. with damping).  The maximum value should be about `1.0120701`.  As `N` gets larger this number should approach $1$ from above, but always be $>1$ (to machine precision!)."
   ]
  },
  {
   "cell_type": "code",
   "execution_count": null,
   "metadata": {
    "collapsed": true
   },
   "outputs": [],
   "source": [
    "def fe_stability(z): return 1+z\n",
    "\n",
    "plot_stability_region(fe_stability)\n",
    "eigs = plot_eigvals(u, dfdu, dt)\n",
    "\n",
    "# Zoom at the origin as h -> 0\n",
    "h = 4\n",
    "plt.xlim(-h,h); plt.ylim(-h,h)\n",
    "\n",
    "# TODO: Investigate the stability of FE for the pendulum"
   ]
  },
  {
   "cell_type": "markdown",
   "metadata": {},
   "source": [
    "It looks like FE is never an option, at least for this equation.  So let's bring out the big guns!"
   ]
  },
  {
   "cell_type": "markdown",
   "metadata": {},
   "source": [
    "## Attempt #2: Backward-Euler\n",
    "\n",
    "You remember that backward-Euler is unconditionally stable - which, after the last section - seems like it should be a relief.  You decide to use Newton to solve the problem at each time-step - fortunately you still have the implementation of Newton's method from Assignment A, which (of course) you implemented in the most general multi-dimensional form (using `np.linalg.inv()` to invert the derivative matrix):"
   ]
  },
  {
   "cell_type": "code",
   "execution_count": null,
   "metadata": {
    "collapsed": true
   },
   "outputs": [],
   "source": [
    "def newton(f, dfdx, x_0, iter_max=10, min_error=1e-14):\n",
    "    \"\"\"\n",
    "    Newton method for rootfinding.  It guarantees quadratic convergence \n",
    "    given f'(root) != 0 and abs(f'(xi)) < 1 over the domain explored.\n",
    "\n",
    "    Args:\n",
    "        f (function): function \n",
    "        dfdx (function): derivative of f\n",
    "        x_0 (array M): starting guess\n",
    "        iter_max (int): max number of iterations\n",
    "        min_error (float): min allowed error\n",
    "\n",
    "    Returns:\n",
    "        x[-1] (float) = root of f\n",
    "        x (np.array) = history of convergence\n",
    "    \"\"\"\n",
    "    x = [x_0]\n",
    "    for i in range(1,iter_max):\n",
    "        xp1 = x[-1] - np.linalg.inv(dfdx(x[-1])).dot(f(x[-1]))\n",
    "        x.append(xp1)\n",
    "        if np.max(np.abs(f(x[-1]))) < min_error:\n",
    "            break\n",
    "    return x[-1], np.array(x)"
   ]
  },
  {
   "cell_type": "markdown",
   "metadata": {},
   "source": [
    "Using the above, implement backward-Euler in the template below.  Bear in mind that at each time-step you are not looking for a root of $f$, but of a different function (say $\\phi$) defined by the BE iteration.  Use the solution at the last time-step as the initial guess for Newton.  So we can analyse the stability, implement also `be_stability()` in analogy to `fe_stability()` above."
   ]
  },
  {
   "cell_type": "code",
   "execution_count": null,
   "metadata": {
    "collapsed": true
   },
   "outputs": [],
   "source": [
    "def be(ui, f, dfdu, dt):\n",
    "    \"\"\"\n",
    "    Single step of backward-Euler with Newton solution method.\n",
    "    \n",
    "    Args:\n",
    "        ui (np.array): State at time-step i\n",
    "        f (function): Fn f defining the ODE\n",
    "        dfdu (function): Fn returning the derivative of f (not used in FE, just\n",
    "                         for consistency with other methods)\n",
    "        dt (float): Time-step\n",
    "    Return:\n",
    "        u (np.array): State at timestep i+1\n",
    "    \"\"\"\n",
    "    # TODO: Implement backward-Euler using `newton()`\n",
    "    raise NotImplementedError\n",
    "\n",
    "def be_stability(z): \n",
    "    raise NotImplementedError"
   ]
  },
  {
   "cell_type": "markdown",
   "metadata": {},
   "source": [
    "Use your code and `predict/plot()` to solve the ODE, and compare with forward-Euler.  With `alpha = 0` do you see physical behaviour from BE?  Do you see stable behaviour?  To verify your code, compare these results with the theory.  Also, your angle after 1 timestep with damping, and `dt = 0.1` should be about `55.97929 degrees`.\n",
    "\n",
    "The code below also times the two methods - check also that this conforms to what you know about the methods."
   ]
  },
  {
   "cell_type": "code",
   "execution_count": null,
   "metadata": {
    "collapsed": true
   },
   "outputs": [],
   "source": [
    "T_final = 10.     # (s) Final time\n",
    "N = 200           # (.) Number of time-steps\n",
    "dt = T_final / N\n",
    "#alpha = 0.0\n",
    "\n",
    "start = time()\n",
    "u = predict(u_0, f, dfdu, T_final, N, fe)\n",
    "print('FE CPU: %10.3g s' % (time()-start,))\n",
    "plot(u, T_final)\n",
    "\n",
    "start = time()\n",
    "u = predict(u_0, f, dfdu, T_final, N, be)\n",
    "print('BE CPU: %10.3g s' % (time()-start,))\n",
    "plot(u, T_final)"
   ]
  },
  {
   "cell_type": "markdown",
   "metadata": {},
   "source": [
    "Perform a stability analysis for BE as for FE before.  What is the largest amplification factor?"
   ]
  },
  {
   "cell_type": "code",
   "execution_count": null,
   "metadata": {
    "collapsed": true
   },
   "outputs": [],
   "source": [
    "plot_stability_region(be_stability)\n",
    "eigs = plot_eigvals(u, dfdu, dt)\n",
    "\n",
    "# Zoom at the origin as h -> 0\n",
    "h = 4\n",
    "plt.xlim(-h,h); plt.ylim(-h,h)"
   ]
  },
  {
   "cell_type": "markdown",
   "metadata": {},
   "source": [
    "## Attempt #3: Runge-Kutta\n",
    "\n",
    "Backward-Euler seems also disappointing - in other ways.  You decide to round out your toolbox with Runge-Kutta 4-stage (RK4), before moving on to the orbial mechanics.  Implement RK4, together with its corresponding `rk4_stability()` function."
   ]
  },
  {
   "cell_type": "code",
   "execution_count": null,
   "metadata": {
    "collapsed": true
   },
   "outputs": [],
   "source": [
    "def rk4(u, f, dfdu, dt):\n",
    "    \"\"\"\n",
    "    Runge-Kutta explicit 4-stage scheme - single step.\n",
    "    \n",
    "    Args:\n",
    "        z (np.array): State at time-step i\n",
    "        f (function): Fn f defining the ODE\n",
    "        dt (float): Time-step\n",
    "    Return:\n",
    "        z (np.array): State at timestep i+1\n",
    "    \"\"\"\n",
    "    # TODO: Implement RK4\n",
    "    raise NotImplementedError    \n",
    "\n",
    "def rk4_stability(z): \n",
    "    raise NotImplementedError"
   ]
  },
  {
   "cell_type": "markdown",
   "metadata": {},
   "source": [
    "Again run the code to verify your implementation.  With the usual settings, and `dt = 0.1` after 1 step the solution should be `57.650555` degrees."
   ]
  },
  {
   "cell_type": "code",
   "execution_count": null,
   "metadata": {
    "collapsed": true
   },
   "outputs": [],
   "source": [
    "T_final = 10.     # (s) Final time\n",
    "N = 100           # (.) Number of time-steps\n",
    "dt = T_final / N\n",
    "u = predict(u_0, f, dfdu, T_final, N, rk4)\n",
    "plot(u, T_final)"
   ]
  },
  {
   "cell_type": "markdown",
   "metadata": {},
   "source": [
    "Finally the stability region should look like a blob with lobes, and the maximum amplification factor should be $<1$ but very close to $1$, for the above settings."
   ]
  },
  {
   "cell_type": "code",
   "execution_count": null,
   "metadata": {
    "collapsed": true
   },
   "outputs": [],
   "source": [
    "plot_stability_region(rk4_stability)\n",
    "eigs = plot_eigvals(u, dfdu, dt)\n",
    "print np.max(np.abs(rk4_stability(eigs)))\n",
    "\n",
    "# Zoom at the origin as h -> 0\n",
    "h = 4\n",
    "plt.xlim(-h,h); plt.ylim(-h,h)"
   ]
  },
  {
   "cell_type": "markdown",
   "metadata": {},
   "source": [
    "## Finally: Orbital mechanics\n",
    "\n",
    "You finally feel ready to tackle the original problem you were interested in.  Setting it up is a bit long-winded, but in summary:\n",
    "\n",
    "Consider now $M$ point-masses mutually gravitating in 2d, with locations $(x_i,y_i) = \\mathbf{x}_i \\in \\mathbb{R}^2$ and masses $m_i$.  Mass $j$ exerts a force due to gravity on mass $i$ of:\n",
    "$$\n",
    "F_{ij} = \\frac{G m_i m_j}{r^2}\\cdot \\frac{\\mathbf{x}_j-\\mathbf{x}_i}{|\\mathbf{x}_j-\\mathbf{x}_i|}, \\qquad r := |\\mathbf{x}_j - \\mathbf{x}_i|\n",
    "$$\n",
    "i.e. inverse-square law along the line connecting the masses.  Newton II applies:\n",
    "$$\n",
    "m_i \\mathbf{x}_i'' = \\sum_{j=0,j\\neq i}^{M-1} F_{ij} =: F_i = (F_i^x, F_i^y)\n",
    "$$\n",
    "Again in canconical form $\\mathbf{u}'=f(\\mathbf{u})$, with\n",
    "$$\n",
    "\\mathbf{u} = \\begin{pmatrix} x_0,\\dots x_{M-1}, y_0,\\dots y_{M-1}, x'_0,\\dots x'_{M-1}, y'_0,\\dots y'_{M-1} \\end{pmatrix}\n",
    "$$\n",
    "and\n",
    "$$\n",
    "f(\\mathbf{u}) = \\begin{pmatrix} x'_0,\\dots x'_{M-1}, y'_0,\\dots y'_{M-1},\n",
    "F_0^x,\\dots,F_{M-1}^x, F_0^y,\\dots,F_{M-1}^y\\end{pmatrix}.\n",
    "$$"
   ]
  },
  {
   "cell_type": "markdown",
   "metadata": {},
   "source": [
    "To model the Earth-moon system, we need the various constants:\n",
    "$$\n",
    "G = 6.67384\\times 10^{-11}\\,\\mathrm{N}\\cdot(\\mathrm{m/kg})^2\\\\\n",
    "$$\n",
    "$$\n",
    "m_\\mathrm{earth} = 5.972\\times 10^{24}\\,\\mathrm{kg},\\quad m_\\mathrm{moon} = 7.348 \\times 10^{22}\\,\\mathrm{kg},\\quad m_\\mathrm{apollo}\\simeq 30\\times 10^3\\,\\mathrm{kg}.\n",
    "$$\n",
    "Moon's distance and velocity relative to Earth:\n",
    "$$\n",
    "x_\\mathrm{moon}= 384400.0\\times 10^3\\,\\mathrm{m},\\quad y'_\\mathrm{moon} = 1.023\\times 10^3\\,\\mathrm{m/s}.\n",
    "$$\n",
    "To make the center-of-mass of the combined system fixed, choose a cancelling initial velocity for the Earth:\n",
    "$$\n",
    "\\quad y'_\\mathrm{earth} = -y'_\\mathrm{moon} \\frac{m_\\mathrm{moon}}{m_\\mathrm{earth}}\n",
    "$$\n",
    "\n",
    "This whole system is implemented in the following code for a general M-body problem:"
   ]
  },
  {
   "cell_type": "code",
   "execution_count": null,
   "metadata": {
    "collapsed": true
   },
   "outputs": [],
   "source": [
    "# TODO ... fill in your net_id\n",
    "net_id = 'jordi'\n",
    "\n",
    "n_body = 3\n",
    "M_multibody = 4 * n_body\n",
    "masses = [5.972e24,      # Mass of earth [kg]\n",
    "          7.34767309e22, # Mass of moon [kg]\n",
    "          70.0]          # ~ mass of you [kg]\n",
    "G = 6.67384e-11     # Universal graviational constant\n",
    "\n",
    "def f_multibody(u):\n",
    "    x    = u[0:n_body]\n",
    "    y    = u[n_body:2*n_body]\n",
    "    xdot = u[2*n_body:3*n_body]\n",
    "    ydot = u[3*n_body:]\n",
    "    f = np.zeros((n_body,4))\n",
    "    f[:,0] = xdot\n",
    "    f[:,1] = ydot\n",
    "    for i in range(n_body):\n",
    "        for j in range(n_body):\n",
    "            if i != j:\n",
    "                r = np.sqrt( (x[j]-x[i])**2 + (y[j]-y[i])**2 )\n",
    "                f[i,2] += G*masses[j]*(x[j]-x[i])/r**3\n",
    "                f[i,3] += G*masses[j]*(y[j]-y[i])/r**3\n",
    "    return f.T.flatten()\n",
    "\n",
    "def dfdu_multibody(u):\n",
    "    x    = u[0:n_body]\n",
    "    y    = u[n_body:2*n_body]\n",
    "    xdot = u[2*n_body:3*n_body]\n",
    "    ydot = u[3*n_body:]\n",
    "    jac = np.zeros((M_multibody,M_multibody))\n",
    "    \n",
    "    jac[0:2*n_body,2*n_body:] = np.eye(2 * n_body)\n",
    "    for i in range(n_body):\n",
    "        for j in range(n_body):\n",
    "            if i != j:    \n",
    "                r = np.sqrt( (x[j]-x[i])**2 + (y[j]-y[i])**2 )\n",
    "                dFdxj = G*masses[j]*(np.eye(2)/r**3 - \n",
    "                          3./r**5*np.array([[(x[j]-x[i])**2,(x[j]-x[i])*(y[j]-y[i])],\n",
    "                                            [(x[j]-x[i])*(y[j]-y[i]),(y[j]-y[i])**2]]))\n",
    "                dFdxi = G*masses[j]*(-np.eye(2)/r**3 - \n",
    "                          3./r**5*np.array([[(x[j]-x[i])**2,(x[j]-x[i])*(y[j]-y[i])],\n",
    "                                            [(x[j]-x[i])*(y[j]-y[i]),(y[j]-y[i])**2]]))                \n",
    "                jac[2*n_body+i,j]        += dFdxj[0,0]\n",
    "                jac[2*n_body+i,j]        += dFdxj[0,1]\n",
    "                jac[2*n_body+i,n_body+j] += dFdxj[0,1]\n",
    "                jac[3*n_body+i,j]        += dFdxj[1,0]\n",
    "                jac[3*n_body+i,n_body+j] += dFdxj[1,1]\n",
    "    return jac\n",
    "\n",
    "x_moon = 384400.0e3   # [m]\n",
    "\n",
    "# Calculate velocity of earth/moon resulting in a circular orbit\n",
    "# about the Earth-moon CoM.\n",
    "r_moon  = masses[0]*x_moon/(masses[0]+masses[1])\n",
    "r_earth = masses[1]*x_moon/(masses[0]+masses[1])\n",
    "T = np.sqrt(4.*np.pi**2*x_moon**3 / (G*(masses[0]+masses[1]))) # Orbital period\n",
    "vel_moon  = 2.*np.pi*r_moon/T\n",
    "vel_earth = -2.*np.pi*r_earth/T\n",
    "\n",
    "from helpers import hash_string2int, rand\n",
    "vel = 1850 + (2*rand(hash_string2int(net_id, 2**32), 20)[-1] - 1.)*200\n",
    "\n",
    "def init_multibody():\n",
    "    \"\"\"Initial conditions for Earth-Moon system... and you!\"\"\"\n",
    "    theta = 25.*np.pi/180\n",
    "    #        Earth      Moon          You\n",
    "    return [        0,   x_moon,     x_moon/4*np.cos(theta),    # x-position (Earth at origin)\n",
    "                    0,        0,     x_moon/4*np.sin(theta),    # y-position\n",
    "                    0,        0,     vel*-np.sin(theta),        # x-vel (center-of-mass stationary)\n",
    "            vel_earth, vel_moon, vel*np.cos(theta)]             # y-velocity\n",
    "\n",
    "u_0 = np.array(init_multibody())     # Initial condition"
   ]
  },
  {
   "cell_type": "markdown",
   "metadata": {},
   "source": [
    "Apply your numerical methods to the Earth-moon system and do the usual sanity checks.  Verify that the period of the moon is about 28 days, and that the Earth-moon distance is approximately constant."
   ]
  },
  {
   "cell_type": "code",
   "execution_count": null,
   "metadata": {
    "collapsed": true
   },
   "outputs": [],
   "source": [
    "# TODO: Compute your Earth-distance\n",
    "T_final = ???\n",
    "N = ???\n",
    "u = predict(u_0, f_multibody, dfdu_multibody, T_final, N, ???)\n",
    "\n",
    "plt.figure(figsize=(10,10))\n",
    "plt.plot(u[:,0], u[:,0+n_body], '-or', label='Earth')\n",
    "plt.plot(u[:,1], u[:,1+n_body], '-k', label='Moon')\n",
    "plt.plot(u[:,2], u[:,2+n_body], '-g', label='You')\n",
    "plt.xlim(-2.1*x_moon, 2.1*x_moon)\n",
    "plt.ylim(-2.1*x_moon, 2.1*x_moon)\n",
    "plt.legend()"
   ]
  },
  {
   "cell_type": "markdown",
   "metadata": {},
   "source": [
    "To get the points for the assignment, replace 'jordi' with your netid.  Compute and report your distance from Earth (in meters) after 1 week ($24\\times 7$ hours) as predicted by both RK4 and BE, both with a time-step of 5 minutes (don't worry if you fly off into the void).  For BE you should have a `iter_max=10`, and `min_error=1e-14` in Newton.\n",
    "\n",
    "Jordi's distances with these settings are roughly:\n",
    "\n",
    " - BE:  $76091000$ m\n",
    " - RK4: $96149000$ m\n",
    "\n",
    "Fill in your distances below:"
   ]
  },
  {
   "cell_type": "code",
   "execution_count": null,
   "metadata": {
    "collapsed": true
   },
   "outputs": [],
   "source": [
    "# TODO: Your distances\n",
    "BE_dist = ???\n",
    "RK4_dist = ???"
   ]
  },
  {
   "cell_type": "markdown",
   "metadata": {},
   "source": [
    "## Special bonus point (lunar insertion)\n",
    "\n",
    "+1 full (additional) grade bonus point will be awarded to the first student who emails me <r.p.dwight@tudelft.nl> with a convincing lunar insertion plan, consisting of the following:\n",
    "\n",
    "- An initial stable approximately circular orbit around Earth at an \"altitude\" of 6556km (distance from the center of Earth).  Required is an analytic expression for the initial condition.\n",
    "- The timing, power and duration of two burns: an initial burn to leave Earth orbit, and a final burn to enter lunar orbit.\n",
    "- Each burn is to have a maximum acceleration of 0.1g and a maximum duration of 1.5 hours - at least one complete orbit of Earth should be performed before the first burn.\n",
    "- Each burn can only be in the direction of travel, but may be positive or negative.\n",
    "- The final lunar orbit must be approximately circular, stable, and close to the moon.  Specifically: for a period of 1 week after the final time the distance to the (center of the) moon should never be greater than $\\frac{1}{20}x_{moon}$, and the orbital eccentricity $e < 0.1$.\n",
    "- The insertion is achieved quickly (the final time may not be greater than 6 months).\n",
    "- All this is true when assessed with RK4 with a 5 minute time-step, and a significantly smaller, stable time-step during the burns.\n",
    "\n",
    "Code must be provided generating plots, which readily and clearly demonstrate that all above conditions are satisfied.\n",
    "\n",
    "Good luck!\n",
    "\n"
   ]
  },
  {
   "cell_type": "code",
   "execution_count": null,
   "metadata": {
    "collapsed": true
   },
   "outputs": [],
   "source": []
  }
 ],
 "metadata": {
  "kernelspec": {
   "display_name": "Python 3",
   "language": "python",
   "name": "python3"
  },
  "language_info": {
   "codemirror_mode": {
    "name": "ipython",
    "version": 3
   },
   "file_extension": ".py",
   "mimetype": "text/x-python",
   "name": "python",
   "nbconvert_exporter": "python",
   "pygments_lexer": "ipython3",
   "version": "3.7.4"
  }
 },
 "nbformat": 4,
 "nbformat_minor": 2
}
