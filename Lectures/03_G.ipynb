{
 "cells": [
  {
   "cell_type": "markdown",
   "metadata": {},
   "source": [
    "## Module 3: Radial Basis Function (RBF) Interpolation"
   ]
  },
  {
   "cell_type": "code",
   "execution_count": null,
   "metadata": {},
   "outputs": [],
   "source": [
    "%matplotlib inline\n",
    "import matplotlib.pyplot as plt\n",
    "plt.rcParams.update({'axes.labelsize': 18})\n",
    "import numpy as np"
   ]
  },
  {
   "cell_type": "code",
   "execution_count": null,
   "metadata": {},
   "outputs": [],
   "source": [
    "def phi_invquad(r,l): return 1./(1 + (r/l)**2)\n",
    "def phi_invmultiquad(r,l): return 1./np.sqrt(1 + (r/l)**2)\n",
    "def phi_multiquad(r,l): return np.sqrt(1 + (r/l)**2)\n",
    "def phi_linear(r,l): return r/l\n",
    "phis = [ phi_invquad, phi_invmultiquad, phi_multiquad, phi_linear]"
   ]
  },
  {
   "cell_type": "code",
   "execution_count": null,
   "metadata": {},
   "outputs": [],
   "source": [
    "rr = np.linspace(0,20,101)\n",
    "for phi in phis:\n",
    "    plt.plot(rr, phi(rr,10), label=phi.__name__)\n",
    "plt.ylim(0,1.5)\n",
    "plt.xlabel(r'$r$'); plt.ylabel(r'$\\phi$')\n",
    "plt.legend()"
   ]
  },
  {
   "cell_type": "markdown",
   "metadata": {},
   "source": [
    "### Radial basis function interpolation in 1d"
   ]
  },
  {
   "cell_type": "code",
   "execution_count": null,
   "metadata": {},
   "outputs": [],
   "source": [
    "N_1d = 10                         ### Number of samples\n",
    "a,b = -4,4                        ### Interval of interest\n",
    "xi = np.linspace(a,b,N_1d+1)      ### Uniform sample locs\n",
    "xx = np.linspace(a,b,501)         ### Sampling of x, for plotting\n",
    "\n",
    "def f_1d(x): return np.sin(x)  ### Target function\n",
    "def f_1d(x): return x > 0\n",
    "fi = f_1d(xi)                     ### Sample values "
   ]
  },
  {
   "cell_type": "code",
   "execution_count": null,
   "metadata": {},
   "outputs": [],
   "source": [
    "plt.plot(xx,f_1d(xx))\n",
    "plt.plot(xi,fi,'ok')"
   ]
  },
  {
   "cell_type": "code",
   "execution_count": null,
   "metadata": {},
   "outputs": [],
   "source": [
    "def dist_1d(x1, x2): return np.abs(x1-x2)"
   ]
  },
  {
   "cell_type": "code",
   "execution_count": null,
   "metadata": {},
   "outputs": [],
   "source": [
    "phi,l = phi_invquad,.1  ### RPD\n",
    "for x in xi:\n",
    "    plt.plot(xx, phi(dist_1d(x,xx),l))\n",
    "plt.plot(xi,0.*xi,'ok')"
   ]
  },
  {
   "cell_type": "code",
   "execution_count": null,
   "metadata": {},
   "outputs": [],
   "source": [
    "def interpolation_matrix_1d(xi,phi,l):\n",
    "    N = len(xi)-1\n",
    "    A = np.zeros((N+1,N+1))\n",
    "    for i in range(N+1):\n",
    "        A[i,:] = phi(dist_1d(xi[i],xi),l)\n",
    "    return A\n",
    "A = interpolation_matrix_1d(xi,phi,l)\n",
    "plt.imshow(A, interpolation='none')"
   ]
  },
  {
   "cell_type": "code",
   "execution_count": null,
   "metadata": {},
   "outputs": [],
   "source": [
    "coeffs = np.linalg.solve(A,fi)\n",
    "coeffs"
   ]
  },
  {
   "cell_type": "code",
   "execution_count": null,
   "metadata": {},
   "outputs": [],
   "source": [
    "def reconstruct(xx):\n",
    "    out = np.zeros(xx.shape)\n",
    "    for i,x in enumerate(xi):\n",
    "         out += coeffs[i] * phi(dist_1d(x,xx),l)\n",
    "    return out"
   ]
  },
  {
   "cell_type": "code",
   "execution_count": null,
   "metadata": {},
   "outputs": [],
   "source": [
    "plt.plot(xx, reconstruct(xx), label='RBF')\n",
    "plt.plot(xx, f_1d(xx), label='f exact')\n",
    "plt.plot(xi, fi, 'ok', label='samples')\n",
    "plt.legend()"
   ]
  },
  {
   "cell_type": "markdown",
   "metadata": {},
   "source": [
    "### Radial basis function interpolation in 2d"
   ]
  },
  {
   "cell_type": "code",
   "execution_count": null,
   "metadata": {},
   "outputs": [],
   "source": [
    "N_2d = 40\n",
    "N_x,N_y = 9,9\n",
    "xmin,xmax,ymin,ymax = -4,4,-4,4\n",
    "\n",
    "def f1_2d(x,y): return y**2/(1.+x**2)\n",
    "def f2_2d(x,y): return x**2 + y**2\n",
    "def dist_2d(x1,y1, x2,y2):\n",
    "    return np.sqrt((x1-x2)**2+(y1-y2)**2) ### Metric\n",
    "\n",
    "xx = np.linspace(xmin,xmax,41)  ### Sampling of x, for plotting\n",
    "yy = np.linspace(ymin,ymax,41)  ### Sampling of y\n",
    "xx,yy = np.meshgrid(xx, yy)     ### Tensor-product grid "
   ]
  },
  {
   "cell_type": "code",
   "execution_count": null,
   "metadata": {},
   "outputs": [],
   "source": [
    "phi, l = phi_invquad, 1.\n",
    "\n",
    "from mpl_toolkits.mplot3d.axes3d import Axes3D\n",
    "from matplotlib import cm\n",
    "fig = plt.figure(figsize=(10,8))\n",
    "ax = fig.add_subplot(111,projection='3d')\n",
    "pp = phi(dist_2d(xx,yy, 0,0),l)\n",
    "ax.plot_surface(xx,yy,pp,rstride=1,cstride=1,linewidth=0,cmap=cm.coolwarm)"
   ]
  },
  {
   "cell_type": "code",
   "execution_count": null,
   "metadata": {},
   "outputs": [],
   "source": [
    "random = False\n",
    "if random:\n",
    "    ### Sample grid in 2d - random\n",
    "    xi,yi = np.random.random((2,N_2d))\n",
    "    xi = (xmax-xmin)*xi + xmin\n",
    "    yi = (ymax-ymin)*yi + ymin\n",
    "else:\n",
    "    ### Sample grid in 2d - structured\n",
    "    x, y = np.linspace(-4,4,9), np.linspace(-4,4,9)\n",
    "    xi,yi = np.meshgrid(x, y)\n",
    "xi, yi = xi.reshape(-1), yi.reshape(-1)"
   ]
  },
  {
   "cell_type": "code",
   "execution_count": null,
   "metadata": {},
   "outputs": [],
   "source": [
    "### Plot the grid\n",
    "plt.plot(xi,yi,'ok')\n",
    "plt.xlim(xmin,xmax); plt.ylim(ymin,ymax)"
   ]
  },
  {
   "cell_type": "markdown",
   "metadata": {},
   "source": [
    "**(c) Plot $f(x,y)$, together with the sample locations to have an idea of what kind of data is available to the interpolation method. Change from a uniform grid to a grid with randomly distributed points.**"
   ]
  },
  {
   "cell_type": "code",
   "execution_count": null,
   "metadata": {},
   "outputs": [],
   "source": [
    "fi = f1_2d(xi,yi)"
   ]
  },
  {
   "cell_type": "code",
   "execution_count": null,
   "metadata": {},
   "outputs": [],
   "source": [
    "fig = plt.figure(figsize=(10,8))\n",
    "ax = fig.add_subplot(111,projection='3d')\n",
    "ff = f1_2d(xx,yy)\n",
    "ax.plot_surface(xx,yy,ff,rstride=1,cstride=1,linewidth=0,cmap=cm.coolwarm)\n",
    "ax.plot(xi,yi,fi,'ok')"
   ]
  },
  {
   "cell_type": "markdown",
   "metadata": {},
   "source": [
    "#### Interpolation conditions"
   ]
  },
  {
   "cell_type": "code",
   "execution_count": null,
   "metadata": {},
   "outputs": [],
   "source": [
    "def interpolation_matrix_2d(xi,yi,phi,l):\n",
    "    N = len(xi)-1\n",
    "    A = np.zeros((N+1,N+1))\n",
    "    for i in range(N+1):\n",
    "        A[i,:] = phi(dist_2d(xi[i],yi[i],xi,yi),l)\n",
    "    return A\n",
    "A = interpolation_matrix_2d(xi,yi,phi,l)\n",
    "plt.imshow(A, interpolation='none')"
   ]
  },
  {
   "cell_type": "code",
   "execution_count": null,
   "metadata": {},
   "outputs": [],
   "source": [
    "coeffs = np.linalg.solve(A,fi)\n",
    "coeffs, fi"
   ]
  },
  {
   "cell_type": "markdown",
   "metadata": {},
   "source": [
    "#### Reconstruction"
   ]
  },
  {
   "cell_type": "code",
   "execution_count": null,
   "metadata": {},
   "outputs": [],
   "source": [
    "def reconstruct_2d(xx,yy):\n",
    "    out = np.zeros(xx.shape)\n",
    "    for i,(x,y) in enumerate(zip(xi,yi)):\n",
    "         out += coeffs[i] * phi(dist_2d(x,y,xx,yy),l)\n",
    "    return out"
   ]
  },
  {
   "cell_type": "code",
   "execution_count": null,
   "metadata": {},
   "outputs": [],
   "source": [
    "fig = plt.figure(figsize=(10,8))\n",
    "ax = fig.add_subplot(111,projection='3d')\n",
    "zz = reconstruct_2d(xx,yy)\n",
    "ax.plot_surface(xx,yy,zz,rstride=1,cstride=1,linewidth=0,cmap=cm.coolwarm)\n",
    "ax.plot(xi, yi, fi, 'ok', label='samples')"
   ]
  },
  {
   "cell_type": "code",
   "execution_count": null,
   "metadata": {},
   "outputs": [],
   "source": [
    "plt.figure(figsize=(12,12))\n",
    "plt.subplot(221)\n",
    "cs = plt.contourf(xx,yy,ff,31)\n",
    "plt.plot(xi, yi, 'ok')\n",
    "plt.title('Original')\n",
    "plt.subplot(222)\n",
    "### Use the same levels in both plots with cs.levels\n",
    "plt.contourf(xx,yy,zz,cs.levels)\n",
    "plt.plot(xi, yi, 'ok')\n",
    "plt.title('RBF Reconstruction')\n",
    "\n",
    "plt.subplot(223)\n",
    "plt.plot(xx[20,:], zz[20,:])\n",
    "plt.plot(xx[20,:], ff[20,:])\n",
    "plt.plot([0,1], [0,1])\n",
    "plt.xlim(-.1,1.1); plt.ylim(0,1)\n"
   ]
  },
  {
   "cell_type": "code",
   "execution_count": null,
   "metadata": {},
   "outputs": [],
   "source": [
    "plt.figure(figsize=(14,6))\n",
    "plt.subplot(121)\n",
    "err = np.abs(zz-ff)\n",
    "cs=plt.contourf(xx,yy,err,levels=np.linspace(0,2,31))\n",
    "plt.plot(xi, yi, 'ok')\n",
    "plt.title('Error')\n",
    "plt.colorbar(cs)"
   ]
  },
  {
   "cell_type": "code",
   "execution_count": null,
   "metadata": {},
   "outputs": [],
   "source": []
  },
  {
   "cell_type": "code",
   "execution_count": null,
   "metadata": {},
   "outputs": [],
   "source": []
  }
 ],
 "metadata": {
  "kernelspec": {
   "display_name": "Python 3",
   "language": "python",
   "name": "python3"
  },
  "language_info": {
   "codemirror_mode": {
    "name": "ipython",
    "version": 3
   },
   "file_extension": ".py",
   "mimetype": "text/x-python",
   "name": "python",
   "nbconvert_exporter": "python",
   "pygments_lexer": "ipython3",
   "version": "3.7.4"
  }
 },
 "nbformat": 4,
 "nbformat_minor": 4
}
