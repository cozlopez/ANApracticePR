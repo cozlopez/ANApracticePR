{
 "cells": [
  {
   "cell_type": "markdown",
   "metadata": {},
   "source": [
    "## Module 2: Lecture demo"
   ]
  },
  {
   "cell_type": "code",
   "execution_count": null,
   "metadata": {},
   "outputs": [],
   "source": [
    "%matplotlib inline\n",
    "import matplotlib\n",
    "import matplotlib.pyplot as plt\n",
    "plt.rcParams.update({'axes.labelsize': 18})\n",
    "import numpy as np"
   ]
  },
  {
   "cell_type": "markdown",
   "metadata": {},
   "source": [
    "### Function"
   ]
  },
  {
   "cell_type": "code",
   "execution_count": null,
   "metadata": {},
   "outputs": [],
   "source": [
    "a, b = 0., 5.\n",
    "n = 8\n",
    "def f_sin(x): return np.sin(np.pi*x/2.)            # Sine-wave\n",
    "def f_poly5(x): return 0.2*x**5 + 0.02*x**3 - x  # Polynomial\n",
    "def f_step(x): return np.sign(x-2)                 # Discontinuous at x=2\n",
    "def f_abs(x): return np.abs(x-2)                   # Discontinuous derivative at x=2\n",
    "def f_abs3(x): return np.abs((x-2)**3)             # Discontinuous 3rd derivative at x=2\n",
    "def f_runge(x): return 1./(1+(3*(x-2))**2)             # Infinitely differentiable (everywhere)\n",
    "def f_gauss(x): return np.exp(-(3*(x-2))**2/2.)        # Very similar curve to above\n",
    "def f_custom(x): pass                              # Your own function  \n",
    "\n",
    "fs = [f_sin, f_poly5, f_step, f_abs, f_abs3, f_runge, f_gauss]\n",
    "xx = np.linspace(a,b,1001)\n",
    "for f in fs:\n",
    "    plt.plot(xx, f(xx), label=f.__name__)\n",
    "plt.xlabel(r'$x$'); plt.ylabel(r'$f$'); plt.legend(loc='upper right')\n",
    "plt.ylim(-2,5)"
   ]
  },
  {
   "cell_type": "markdown",
   "metadata": {},
   "source": [
    "### Grid"
   ]
  },
  {
   "cell_type": "code",
   "execution_count": null,
   "metadata": {},
   "outputs": [],
   "source": [
    "def grid_uniform(n): return np.linspace(a, b, n+1)"
   ]
  },
  {
   "cell_type": "markdown",
   "metadata": {},
   "source": [
    "### Basis"
   ]
  },
  {
   "cell_type": "code",
   "execution_count": null,
   "metadata": {},
   "outputs": [],
   "source": [
    "def basis_monomial(x, grid):\n",
    "    phi = np.zeros(len(grid))\n",
    "    for i in range(len(grid)): phi[i] = x**i\n",
    "    return phi\n",
    "\n",
    "def basis_lagrange(x, grid):\n",
    "    phi = np.ones(len(grid))\n",
    "    for i, xi in enumerate(grid):\n",
    "        for j,xj in enumerate(grid):\n",
    "            if i != j: \n",
    "                phi[i] *= (x - xj) / (xi - xj)\n",
    "    return phi"
   ]
  },
  {
   "cell_type": "code",
   "execution_count": null,
   "metadata": {},
   "outputs": [],
   "source": [
    "def plot_basis(basisfn, grid):\n",
    "    xx = np.linspace(a, b, 101)\n",
    "    phi = np.zeros((101, n+1))\n",
    "    for i,x in enumerate(xx): \n",
    "        phi[i] = basisfn(x,grid)\n",
    "    for j in range(n+1):\n",
    "        plt.plot(xx, phi[:,j])\n",
    "    plt.plot(grid, np.zeros(grid.shape), 'ok', label='samples')\n",
    "    plt.xlabel(r'$x$'); plt.ylabel(r'$l_i$')"
   ]
  },
  {
   "cell_type": "code",
   "execution_count": null,
   "metadata": {},
   "outputs": [],
   "source": [
    "plot_basis(basis_monomial, grid_uniform(n))"
   ]
  },
  {
   "cell_type": "markdown",
   "metadata": {},
   "source": [
    "### Interpolation"
   ]
  },
  {
   "cell_type": "code",
   "execution_count": null,
   "metadata": {},
   "outputs": [],
   "source": [
    "def interpolation_matrix(grid, basisfn):\n",
    "    n = len(grid)-1\n",
    "    A = np.zeros((n+1,n+1))\n",
    "    for i in range(n+1):\n",
    "        A[i,:] = basisfn(grid[i],grid)\n",
    "    return A\n",
    "\n",
    "A = interpolation_matrix(grid_uniform(n), basis_lagrange)\n",
    "#print(A)\n",
    "plt.imshow(A, interpolation='none')\n",
    "plt.xlabel(r'$j$'); plt.ylabel(r'$i$')"
   ]
  },
  {
   "cell_type": "code",
   "execution_count": null,
   "metadata": {},
   "outputs": [],
   "source": [
    "def poly_interp(xx, f, grid, basis):\n",
    "    A = interpolation_matrix(grid, basis)   ### Interpolation conditions\n",
    "    ff = np.array([f(xi) for xi in grid])\n",
    "    aa = np.linalg.solve(A,ff)\n",
    "    basisxx = np.zeros((len(xx),len(grid))) ### Basis functions at all x values in xx\n",
    "    for i,x in enumerate(xx):\n",
    "        basisxx[i,:] = basis(x,grid)\n",
    "    return np.dot(basisxx, aa)              ### Reconstruction"
   ]
  },
  {
   "cell_type": "markdown",
   "metadata": {},
   "source": [
    "Usage is, for example:"
   ]
  },
  {
   "cell_type": "code",
   "execution_count": null,
   "metadata": {},
   "outputs": [],
   "source": [
    "a, b = 0,5\n",
    "f_test = f_gauss\n",
    "grid_test = grid_uniform(32)\n",
    "f_prediction = poly_interp(xx, f_test, grid_test, basis_monomial)\n",
    "plt.plot(xx, f_prediction, label='polynomial')\n",
    "plt.plot(xx, f_test(xx), label='truth')\n",
    "plt.plot(grid_test, f_test(grid_test), 'ok', label='samples')\n",
    "plt.xlabel(r'$x$'); plt.ylabel(r'$f$'); plt.legend()"
   ]
  },
  {
   "cell_type": "code",
   "execution_count": null,
   "metadata": {},
   "outputs": [],
   "source": []
  },
  {
   "cell_type": "markdown",
   "metadata": {},
   "source": [
    "### Error"
   ]
  },
  {
   "cell_type": "code",
   "execution_count": null,
   "metadata": {},
   "outputs": [],
   "source": [
    "def error_max(xx, f, grid, basis):\n",
    "    return np.max(np.abs(poly_interp(xx, f, grid, basis) - f(xx)))"
   ]
  },
  {
   "cell_type": "code",
   "execution_count": null,
   "metadata": {},
   "outputs": [],
   "source": [
    "def plot_convergence(f_fn, grid_fn, basis_fn, label):\n",
    "    nn, linfty = range(2, 18), []\n",
    "    xx = np.linspace(a, b, 1001)\n",
    "    for n in nn:\n",
    "        linfty.append(error_max(xx, f_fn, grid_fn(n), basis_fn))\n",
    "    plt.plot(nn, np.log10(np.array(linfty)), '-o', label=label)"
   ]
  },
  {
   "cell_type": "code",
   "execution_count": null,
   "metadata": {},
   "outputs": [],
   "source": [
    "plot_convergence(f_sin, grid_uniform, basis_lagrange, 'sin')\n",
    "plot_convergence(f_poly5, grid_uniform, basis_lagrange, 'poly5')\n",
    "plot_convergence(f_step, grid_uniform, basis_lagrange, 'step')\n",
    "plot_convergence(f_abs3, grid_uniform, basis_lagrange, 'abs')\n",
    "plot_convergence(f_runge, grid_uniform, basis_lagrange, 'runge')\n",
    "plt.xlabel(r'$N$'); plt.ylabel(r'$\\log_{10}(\\epsilon)$'); plt.legend()"
   ]
  },
  {
   "cell_type": "markdown",
   "metadata": {},
   "source": [
    "### Nodal polynomial"
   ]
  },
  {
   "cell_type": "code",
   "execution_count": null,
   "metadata": {},
   "outputs": [],
   "source": [
    "N = 20\n",
    "grid_test = grid_uniform(N)\n",
    "def nodalpoly(x, grid):\n",
    "    phi = np.ones(len(x))\n",
    "    for xi in grid:\n",
    "        phi *= (x - xi)\n",
    "    return phi\n",
    "\n",
    "def plot_nodalpoly(grid):\n",
    "    xx = np.linspace(a, b, 101)\n",
    "    plt.plot(xx, nodalpoly(xx, grid))\n",
    "    plt.plot(grid, np.zeros(grid.shape), 'ok', label='samples')\n",
    "    plt.xlabel(r'$x$'); plt.ylabel(r'$\\omega_{%d}$' % N)\n",
    "    \n",
    "plot_nodalpoly(grid_test)"
   ]
  },
  {
   "cell_type": "code",
   "execution_count": null,
   "metadata": {},
   "outputs": [],
   "source": []
  },
  {
   "cell_type": "code",
   "execution_count": null,
   "metadata": {},
   "outputs": [],
   "source": []
  }
 ],
 "metadata": {
  "kernelspec": {
   "display_name": "Python 3",
   "language": "python",
   "name": "python3"
  },
  "language_info": {
   "codemirror_mode": {
    "name": "ipython",
    "version": 3
   },
   "file_extension": ".py",
   "mimetype": "text/x-python",
   "name": "python",
   "nbconvert_exporter": "python",
   "pygments_lexer": "ipython3",
   "version": "3.7.4"
  }
 },
 "nbformat": 4,
 "nbformat_minor": 4
}
