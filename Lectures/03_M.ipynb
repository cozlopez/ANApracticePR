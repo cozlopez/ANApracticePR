{
 "cells": [
  {
   "cell_type": "markdown",
   "metadata": {},
   "source": [
    "## Cubic Spline Interpolation"
   ]
  },
  {
   "cell_type": "code",
   "execution_count": null,
   "metadata": {},
   "outputs": [],
   "source": [
    "%matplotlib inline\n",
    "import matplotlib.pyplot as plt\n",
    "import numpy as np\n",
    "Ia, Ib = -1.0, 1.0                 ### Interval endpoints\n",
    "N = 4                              ### Number of sub-intervals\n",
    "xi = np.linspace(Ia,Ib,N+1)        ### Uniform sample locs  \n",
    "\n",
    "### Functions to test - and 2nd derivatives\n",
    "\n",
    "def f_sin(x): return np.sin(3*x)         ### Sine wave  \n",
    "def f_runge(x): return 1./(1+(4.*x)**2)  ### Runge fn\n",
    "def f_step(x): return np.array(x > 0., dtype=np.int)        ### Heaviside fn\n",
    "def f_kink(x): return np.abs(x)          ### Kink fn\n"
   ]
  },
  {
   "cell_type": "code",
   "execution_count": null,
   "metadata": {},
   "outputs": [],
   "source": [
    "def S(x, xj, a, b, c, d):\n",
    "    return a + b * (x-xj) + c * (x-xj)**2 + d * (x-xj)**3\n",
    "\n",
    "def rhs(grid, fi):           ### RHS - interior points\n",
    "    N = len(grid)-1\n",
    "    h = grid[1:] - grid[:-1]   # width of interval i - vector size N\n",
    "    rhs = np.zeros(N+1)\n",
    "    for i in range(1, N):\n",
    "        rhs[i] = 3.*(fi[i+1] - fi[i])/h[i] - 3.*(fi[i] - fi[i-1])/h[i-1]\n",
    "    return rhs\n",
    "\n",
    "def system_matrix(grid):\n",
    "    N = len(grid)-1\n",
    "    h = grid[1:] - grid[:-1]   # width of interval i - vector size N\n",
    "    A = np.zeros((N+1,N+1))\n",
    "    ### Equations describing conditions at interior nodes\n",
    "    for i in range(1, N):\n",
    "        A[i,i]   = 2*(h[i-1]+h[i])\n",
    "        A[i,i-1] = h[i-1]\n",
    "        A[i,i+1] = h[i]\n",
    "    return A\n",
    "\n",
    "def spline_natural(xi, fi, xx):\n",
    "    \"\"\"\n",
    "    One-shot function for spline interpolation (with natural BCs).\n",
    "    \n",
    "    Args:\n",
    "      xi (array, n+1): Sample locations\n",
    "      fi (array, n+1): Sample values\n",
    "      xx (array, M):   Reconstuction locations\n",
    "    Return:\n",
    "      ff (array, M): Reconstructed values at xx\n",
    "    \"\"\"\n",
    "    h = xi[1:] - xi[:-1]       # Interval width\n",
    "    N = len(h)\n",
    "                               ### Setup system\n",
    "    A = system_matrix(xi)      # Left-hand side \n",
    "    frhs = rhs(xi, fi)         # Right-hand side\n",
    "    A[0,0] = A[N,N] = 1        # BC for LHS (natural)\n",
    "    frhs[0] = 0                # BC for RHS (natural)\n",
    "    frhs[-1] = 0 \n",
    "                               ### Solve system for coefficients\n",
    "    c = np.linalg.solve(A, frhs)\n",
    "    a = fi[:]                                                  # N+1\n",
    "    b = (a[1:] - a[:-1]) / h[:] - h[:]/3. * (2*c[:-1] + c[1:]) # N\n",
    "    d = (c[1:] - c[:-1]) / (3. * h[:])                         # N\n",
    "                               ### Reconstuct spline at locations xx  \n",
    "    ii = np.digitize(xx, xi)   # Find to which interval each xx belongs\n",
    "    ii = np.fmin(np.fmax(ii-1,0),N-1) \n",
    "    ff = np.zeros(xx.shape)\n",
    "    for j, i in enumerate(ii): # Compute spline for each x\n",
    "        ff[j] = S(xx[j], xi[i], a[i], b[i], c[i], d[i])\n",
    "    return ff"
   ]
  },
  {
   "cell_type": "code",
   "execution_count": null,
   "metadata": {},
   "outputs": [],
   "source": [
    "#### TODO - Question (a) - Change N and see how splines behave.\n",
    "N = 19                               ### Number of sub-intervals\n",
    "f = f_kink # f_sin, f_runge, f_step, f_kink\n",
    "xx = np.linspace(Ia,Ib,201)            ### Uniform reconstruction locations\n",
    "xi = np.linspace(Ia,Ib,N+1)            ### Uniform nodes\n",
    "#xi = np.random.random(N-1)*(Ib-Ia)+Ia  ### Random nodes\n",
    "#xi = np.hstack(([Ia], xi, [Ib]))        \n",
    "xi.sort()\n",
    "fi = f(xi)                             ### Sample values \n",
    "\n",
    "plt.plot(xx, spline_natural(xi, fi, xx), '-b')\n",
    "plt.plot(xx, f(xx), '-g')\n",
    "plt.plot(xi, f(xi), 'ok')"
   ]
  },
  {
   "cell_type": "code",
   "execution_count": null,
   "metadata": {},
   "outputs": [],
   "source": []
  },
  {
   "cell_type": "code",
   "execution_count": null,
   "metadata": {},
   "outputs": [],
   "source": []
  },
  {
   "cell_type": "code",
   "execution_count": null,
   "metadata": {},
   "outputs": [],
   "source": []
  }
 ],
 "metadata": {
  "kernelspec": {
   "display_name": "Python 3",
   "language": "python",
   "name": "python3"
  },
  "language_info": {
   "codemirror_mode": {
    "name": "ipython",
    "version": 3
   },
   "file_extension": ".py",
   "mimetype": "text/x-python",
   "name": "python",
   "nbconvert_exporter": "python",
   "pygments_lexer": "ipython3",
   "version": "3.7.4"
  }
 },
 "nbformat": 4,
 "nbformat_minor": 4
}
