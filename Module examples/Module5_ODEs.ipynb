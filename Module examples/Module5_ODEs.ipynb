{
 "cells": [
  {
   "cell_type": "markdown",
   "metadata": {},
   "source": [
    "## Numerical solution of ODEs"
   ]
  },
  {
   "cell_type": "markdown",
   "metadata": {},
   "source": [
    "*Material for this worksheet can be found in the AE2220-I lecture notes Chapter 8*"
   ]
  },
  {
   "cell_type": "markdown",
   "metadata": {},
   "source": [
    "### Problem statement"
   ]
  },
  {
   "cell_type": "markdown",
   "metadata": {},
   "source": [
    "Find the vector-valued function $u: \\mathbb{R} \\rightarrow \\mathbb{R}^m$\n",
    "satisfying the system of $m$ ODEs and initial conditions:\n",
    "$$\n",
    "\\mathbf{u}'(t) = f(\\mathbf{u}(t)), \\qquad \\mathbf{u}(0)=\\mathbf{u}_0,\n",
    "$$\n",
    "where $f:\\mathbb{R}^m\\rightarrow \\mathbb{R}^m$ and $\\mathbf{u}_0\\in \\mathbb{R}^m$ is a constant.\n",
    "\n",
    "All initial-value problems of the form\n",
    "$$\n",
    "y^{(m)}(t) = F(t, y, y', y'',\\dots, y^{(m-1)})\n",
    "$$\n",
    "can be rewritten in the canonical form $\\mathbf{u}'=f(\\mathbf{u})$ by introducing auxillary variables, and therefore we consider only the canonical form in the following."
   ]
  },
  {
   "cell_type": "code",
   "execution_count": 32,
   "metadata": {
    "collapsed": false
   },
   "outputs": [],
   "source": [
    "%matplotlib inline\n",
    "import matplotlib\n",
    "import matplotlib.pyplot as plt\n",
    "plt.rcParams.update({'axes.labelsize': 18})\n",
    "import numpy as np"
   ]
  },
  {
   "cell_type": "code",
   "execution_count": 33,
   "metadata": {
    "collapsed": false
   },
   "outputs": [],
   "source": [
    "def rk4(f, u, dt):\n",
    "    \"\"\"\n",
    "    Runge-Kutta explicit 4-stage scheme - 1 step.\n",
    "\n",
    "      f  - function defining ODE dy/dt = f(t,u), two arguments\n",
    "      t  - time\n",
    "      u  - solution at t\n",
    "      dt - step size\n",
    "    Return: approximation of y at t+dt.\n",
    "    \"\"\"\n",
    "    k1 = f(u)\n",
    "    k2 = f(u + dt*k1/2)\n",
    "    k3 = f(u + dt*k2/2)\n",
    "    k4 = f(u + dt*k3) \n",
    "    return u + dt/6 * (k1 + 2*k2 + 2*k3 + k4)"
   ]
  },
  {
   "cell_type": "markdown",
   "metadata": {},
   "source": [
    "#### Example #1: Mathematical pendulum"
   ]
  },
  {
   "cell_type": "markdown",
   "metadata": {},
   "source": [
    "One of the most simple non-linear ODE is the pendulum equation without damping\n",
    "\n",
    "$$\\frac{d^2 \\phi(t)}{dt^2} = \\ddot{\\phi} = - \\frac{g}{l}\\sin(\\phi(t))$$\n",
    "\n",
    "in which $\\phi(t)$ is the deflection angle in time, $g$ the gravitational accelertion and $l$ the length of the pendulum. Using the auxillary variables\n",
    "\n",
    "\\begin{align*}\n",
    "z_1 &= \\phi \\\\\n",
    "z_2 &= \\dot{\\phi} \n",
    "\\end{align*}\n",
    "\n",
    "the second order ODE can be transformed into a system of two first order ODEs\n",
    "\n",
    "\\begin{align*}\n",
    "\\dot{z_1} &= z_2 \\\\\n",
    "\\dot{z_2} &= - \\frac{g}{l}\\sin(z_1)\n",
    "\\end{align*}\n",
    "\n",
    "Which can be solved numerically using the above defined Runge-Kutta algorithm.\n",
    "\n"
   ]
  },
  {
   "cell_type": "code",
   "execution_count": 34,
   "metadata": {
    "collapsed": false
   },
   "outputs": [
    {
     "data": {
      "text/plain": [
       "<matplotlib.legend.Legend at 0x10c211f50>"
      ]
     },
     "execution_count": 34,
     "metadata": {},
     "output_type": "execute_result"
    },
    {
     "data": {
      "image/png": "[encoded data removed]",
      "text/plain": [
       "<matplotlib.figure.Figure at 0x10bc44f90>"
      ]
     },
     "metadata": {},
     "output_type": "display_data"
    }
   ],
   "source": [
    "gravity          = 10\n",
    "length           = 1\n",
    "deflection_angle = 0.0001*np.pi\n",
    "\n",
    "def f_pendulum_damped(state): \n",
    "    g0 = state[1]\n",
    "    g1 = -gravity/length * np.sin(state[0])\n",
    "    return np.array([g0,g1])\n",
    "\n",
    "def init_pendulum_damped():\n",
    "    return [deflection_angle, 0]\n",
    "    \n",
    "    \n",
    "M = 2\n",
    "N, deltat = 2001, 0.001\n",
    "Tmax = N * deltat\n",
    "t = np.linspace(0,Tmax,N)\n",
    "u = np.zeros((N, M))\n",
    "u.shape\n",
    "u[0,:] = init_pendulum_damped()     \n",
    "for i in range(N-1):\n",
    "    u[i+1,:] = rk4(f_pendulum_damped, u[i], deltat)\n",
    "    \n",
    "\n",
    "plt.figure()\n",
    "plt.plot(t, u[:,0], '-b', label=r'$\\phi$')\n",
    "plt.plot(t, u[:,1], '-r', label=r'$d\\phi/dt$')\n",
    "plt.xlabel('t')\n",
    "plt.legend(loc='best')"
   ]
  },
  {
   "cell_type": "markdown",
   "metadata": {},
   "source": [
    "If the pendulum is only deflected by a small angle $\\phi_0$, the non-linear term can be approximated by $\\sin(\\phi) \\approx \\phi$ and the governing equation reduces to a linear ODE\n",
    "\n",
    "$$\\ddot{\\phi} = - \\frac{g}{l}\\phi(t)$$\n",
    "\n",
    "with the analytical solution\n",
    "\n",
    "$$\\phi(t) = \\Phi \\, \\sin(\\sqrt{\\dfrac{g}{l}} t + \\phi_m)$$\n",
    "\n",
    "in which $\\Phi$ is the deflection angle and $\\phi_m$ can be determined from the initial condition (here: $\\phi_m = \\pi/2$). A comparison of the analytical solution with the numerical is shown below.\n"
   ]
  },
  {
   "cell_type": "code",
   "execution_count": 35,
   "metadata": {
    "collapsed": false
   },
   "outputs": [
    {
     "data": {
      "text/plain": [
       "<matplotlib.legend.Legend at 0x10a0de190>"
      ]
     },
     "execution_count": 35,
     "metadata": {},
     "output_type": "execute_result"
    },
    {
     "data": {
      "image/png": "[encoded data removed]",
      "text/plain": [
       "<matplotlib.figure.Figure at 0x10a6354d0>"
      ]
     },
     "metadata": {},
     "output_type": "display_data"
    }
   ],
   "source": [
    "u_math = deflection_angle * np.sin(np.sqrt(gravity/length)*t+np.pi/2)  \n",
    "\n",
    "plt.figure()\n",
    "plt.plot(t, u[:,0], '-b', label=r'$\\phi$')\n",
    "plt.plot(t, u_math, '-.r', label=r'$\\phi_{math}$')\n",
    "plt.xlabel('t')\n",
    "plt.legend(loc='best')"
   ]
  },
  {
   "cell_type": "markdown",
   "metadata": {},
   "source": [
    "**Exercise 1:\n",
    "(a)  What happens if the initial deflection angle is not small, e.g. $\\phi_0=\\pi/4$? How do you explain the difference compared to the analytical solution?**"
   ]
  },
  {
   "cell_type": "markdown",
   "metadata": {},
   "source": []
  },
  {
   "cell_type": "code",
   "execution_count": 1,
   "metadata": {
    "collapsed": false
   },
   "outputs": [],
   "source": [
    "### CODE - TO DO: Use the above code an modify it according to the exercise. Plot the result."
   ]
  },
  {
   "cell_type": "markdown",
   "metadata": {
    "collapsed": false
   },
   "source": [
    "**(b)  Consider the motion of a planar pendulum under friction. The equation of motion reads\n",
    "$$\\frac{d^2 \\phi}{dt^2} = - \\frac{g}{l}\\sin(\\phi) - c\\frac{d \\phi}{dt}$$\n",
    "with $c$ as the friction coefficient. This 2nd order ODE can be transformed into a system of 1st order ODEs analogously to the example of the mathematical pendulum (pendulum without damping/friction)\n",
    "\\begin{align*}\n",
    "\\dot{z_1} &= z_2 \\\\\n",
    "\\dot{z_2} &= - \\frac{g}{l}\\sin(z_1) - c z_2\n",
    "\\end{align*}\n",
    "Solve the system numerically using the above defined Runge-Kutta explicit 4-stage scheme function $rk4()$. Parameter values are $g=9.81$, $l=1$, $c=0.2$ and the initial conditions are $\\phi_0=0.2$ and $\\frac{d \\phi}{dt}\\big|_0=0.0$. Use $dt=0.01$ and run until $T=100$.\n",
    "**"
   ]
  },
  {
   "cell_type": "code",
   "execution_count": 2,
   "metadata": {
    "collapsed": false
   },
   "outputs": [],
   "source": [
    "### CODE - TODO: Use the above code an modify it according to the exercise. Plot the result.\n"
   ]
  },
  {
   "cell_type": "markdown",
   "metadata": {},
   "source": [
    "### Stability of the ODE"
   ]
  },
  {
   "cell_type": "markdown",
   "metadata": {},
   "source": [
    "For ODEs we distinguish two kinds of stability. First, the stability of the method used to solve the ODE numerically. Second, the stability of the ODE itself. In order to assess the latter the dynamics of the ODE at so-called equilibrium points or fixed points is analyzed (see e.g. chapter 8.5.1 of the reader). \n",
    "\n",
    "Let's take for example the equation of motion of a planar pendulum under friction (damped motion) from above. The equilibrium points are the points where the time derivatives vanish, i.e. \n",
    "\n",
    "\\begin{align*}\n",
    "\\dot{z_1} &= z_2 = 0\\\\\n",
    "\\dot{z_2} &= - \\frac{g}{l}\\sin(z_1) - c z_2 = 0\n",
    "\\end{align*}\n",
    "\n",
    "Thus, the fixed points are $(z_1^*, z_2^*) = (n\\pi, 0)$ with $n \\in \\mathbb{Z}$. The question is if these fixed points are stable or unstable. The Jacobian matrix evaluated at these points determines the stability properties. \n",
    "Defining $\\dot{z_1} = f(z_1, z_2)$ and $\\dot{z_2} = g(z_1, z_2)$ the Jacobian reads\n",
    "\n",
    "$$\n",
    "J = \n",
    "\\begin{pmatrix}\n",
    "\\frac{d f}{d z_1} & \\frac{d f}{d z_2} \\\\\n",
    "\\frac{d g}{d z_1} & \\frac{d g}{d z_2} \n",
    "\\end{pmatrix}_{(z_1^*, z_2^*)} \n",
    "= \\begin{pmatrix}\n",
    "0 & 1 \\\\\n",
    "-\\frac{g}{l}\\cos(z_1) & -c\n",
    "\\end{pmatrix}_{(z_1^*, z_2^*)} \n",
    "$$\n",
    "\n",
    "For the sake of simplicity we focus on $(z_1^*, z_2^*) = (2n\\pi, 0)$ and assume $g/l=1$ so that\n",
    "\n",
    "$$\n",
    "J = \n",
    "\\begin{pmatrix}\n",
    "0 & 1 \\\\\n",
    "-1 & -c\n",
    "\\end{pmatrix}\n",
    "$$\n",
    "\n",
    "The eigenvalues of the matrix are $$ \\lambda_{1,2} = \\frac{-c \\pm \\sqrt{c^2 - 4}}{2}$$. \n",
    "\n",
    "If only one eigenvalue has a positive real part, the fixed point is unstable. If all eigenvalues have negative real part, the fixed point is stable. "
   ]
  },
  {
   "cell_type": "code",
   "execution_count": 38,
   "metadata": {
    "collapsed": false
   },
   "outputs": [
    {
     "data": {
      "text/plain": [
       "<matplotlib.lines.Line2D at 0x10ba6f410>"
      ]
     },
     "execution_count": 38,
     "metadata": {},
     "output_type": "execute_result"
    },
    {
     "data": {
      "image/png": "[encoded data removed]",
      "text/plain": [
       "<matplotlib.figure.Figure at 0x1098ab0d0>"
      ]
     },
     "metadata": {},
     "output_type": "display_data"
    }
   ],
   "source": [
    "import cmath\n",
    "\n",
    "def eig(ci):\n",
    "    lambda_1 = np.real((-ci + cmath.sqrt(ci**2. - 4.))/2.)\n",
    "    lambda_2 = np.real((-ci - cmath.sqrt(ci**2. - 4.))/2.)\n",
    "    return lambda_1, lambda_2\n",
    "\n",
    "\n",
    "c = np.linspace(-4,4,100)\n",
    "\n",
    "lambda_1 = np.zeros(shape=c.shape)\n",
    "lambda_2 = np.zeros(shape=c.shape)\n",
    "for i,ci in enumerate(c):\n",
    "    lambda_1[i], lambda_2[i]  = eig(ci)\n",
    "\n",
    "    \n",
    "plt.figure()\n",
    "plt.plot(c, lambda_1, '-b', label=r'$\\lambda_1$')\n",
    "plt.plot(c, lambda_2, '--r', label=r'$\\lambda_2$')\n",
    "plt.ylabel('Real part of $\\lambda_i$')\n",
    "plt.xlabel('c')\n",
    "plt.axhline(y=0.,color='k',ls='dashed')\n",
    "#plt.legend(loc='best')\n"
   ]
  },
  {
   "cell_type": "markdown",
   "metadata": {},
   "source": [
    "The figure shows the real part of $\\lambda_i$ as a function of $c$. One can see that if $c>0$ all real parts of $\\lambda_{1,2}$ are all negative, i.e. stable fixed points."
   ]
  },
  {
   "cell_type": "markdown",
   "metadata": {},
   "source": [
    "**Exercise 2: (a)  Consider again the motion of a planar pendulum under friction from above and solve the problem again but now with $c=-0.1$ and $g/l=1$. Discuss what you observe for $T_{max} = 10$ and $T_{max} = 100$?**\n"
   ]
  },
  {
   "cell_type": "code",
   "execution_count": 3,
   "metadata": {
    "collapsed": false
   },
   "outputs": [],
   "source": [
    "### TO DO: Use your code from exercise 1 (b) and modify it according to the exercise. Plot the result."
   ]
  },
  {
   "cell_type": "markdown",
   "metadata": {},
   "source": [
    "### Stability of time-stepping schemes"
   ]
  },
  {
   "cell_type": "markdown",
   "metadata": {},
   "source": [
    "If the ODE is stable the numerical stability of time-stepping method depends on the step size. Consider the example of a simple linear 1st order ODE \n",
    "\n",
    "$$\n",
    "\\dot{y} = \\alpha y\n",
    "$$\n",
    "\n",
    "with the inital condition $y(0) = 1$. Let's solve this ODE using forward Euler-Cauchy. "
   ]
  },
  {
   "cell_type": "markdown",
   "metadata": {
    "collapsed": false
   },
   "source": [
    "Which is the biggest time step $dt$ we can chose? The stability region of the forward Euler-Cauchy is defined as the set\n",
    "\n",
    "$$ \\{z \\in \\mathbb{C}: |z+1|<1  \\} $$\n"
   ]
  },
  {
   "cell_type": "code",
   "execution_count": 40,
   "metadata": {
    "collapsed": false
   },
   "outputs": [
    {
     "data": {
      "text/plain": [
       "<matplotlib.text.Text at 0x10c64d250>"
      ]
     },
     "execution_count": 40,
     "metadata": {},
     "output_type": "execute_result"
    },
    {
     "data": {
      "image/png": "[encoded data removed]",
      "text/plain": [
       "<matplotlib.figure.Figure at 0x10c638b90>"
      ]
     },
     "metadata": {},
     "output_type": "display_data"
    }
   ],
   "source": [
    "X, Y = np.meshgrid(np.linspace(-3,1,101), np.linspace(-2,2))\n",
    "Z = X + Y * 1j\n",
    "plt.figure()\n",
    "plt.contourf(X, Y, abs(1. + Z), levels=[0,1.],\n",
    "             colors=None, extend='lower')\n",
    "plt.xlabel('real')\n",
    "plt.ylabel('imaginary')\n",
    "#plt.legend()"
   ]
  },
  {
   "cell_type": "markdown",
   "metadata": {},
   "source": [
    "All points within the green circle are stable. In the above example we have $z=dt*\\alpha$. The equation can be solved numerically with a time step $dt=0.1$"
   ]
  },
  {
   "cell_type": "code",
   "execution_count": 41,
   "metadata": {
    "collapsed": false
   },
   "outputs": [
    {
     "data": {
      "text/plain": [
       "<matplotlib.legend.Legend at 0x109893d90>"
      ]
     },
     "execution_count": 41,
     "metadata": {},
     "output_type": "execute_result"
    },
    {
     "data": {
      "image/png": "[encoded data removed]",
      "text/plain": [
       "<matplotlib.figure.Figure at 0x10c08d650>"
      ]
     },
     "metadata": {},
     "output_type": "display_data"
    }
   ],
   "source": [
    "def forward_euler(alpha, u, dt):\n",
    "    return u + dt*alpha*u\n",
    "\n",
    "\n",
    "alpha = -0.5\n",
    "M = 1\n",
    "N, deltat = 100, 0.1\n",
    "Tmax = N * deltat\n",
    "u = np.zeros((N, M))\n",
    "u[0] = [1]     # Initial condition\n",
    "for i in range(N-1):\n",
    "    u[i+1] = forward_euler(alpha, u[i], deltat)\n",
    "\n",
    "t = np.linspace(0,Tmax,N)    \n",
    "    \n",
    "plt.figure()\n",
    "plt.plot(t, u, '-b', label=r'$\\phi$')\n",
    "plt.legend()\n"
   ]
  },
  {
   "cell_type": "markdown",
   "metadata": {},
   "source": [
    "**(b)  Find a $dt$ so that the solution is outside of the stability range.**\n"
   ]
  },
  {
   "cell_type": "code",
   "execution_count": 4,
   "metadata": {
    "collapsed": false
   },
   "outputs": [],
   "source": [
    "### TO DO: Use the above code an modify it according to the exercise. Plot the result.\n"
   ]
  },
  {
   "cell_type": "markdown",
   "metadata": {},
   "source": [
    "### Additional example: Orbital mechanics (** - not examined)"
   ]
  },
  {
   "cell_type": "markdown",
   "metadata": {},
   "source": [
    "Consider now $M$ point-masses mutually gravitating in 2d, with locations $(x_i,y_i) = \\mathbf{x}_i \\in \\mathbb{R}^2$ and masses $m_i$.  Mass $j$ exerts a force due to gravity on mass $i$ of:\n",
    "$$\n",
    "F_{ij} = \\frac{G m_i m_j}{r^2}\\cdot \\frac{\\mathbf{x}_j-\\mathbf{x}_i}{|\\mathbf{x}_j-\\mathbf{x}_i|}, \\qquad r := |\\mathbf{x}_j - \\mathbf{x}_i|\n",
    "$$\n",
    "i.e. inverse-square law along the line connecting the masses.  Newton II applies:\n",
    "$$\n",
    "m_i \\mathbf{x}_i'' = \\sum_{j=0,j\\neq i}^{M-1} F_{ij} =: F_i = (F_i^x, F_i^y)\n",
    "$$\n",
    "Again in canconical form $\\mathbf{u}'=f(\\mathbf{u})$, with\n",
    "$$\n",
    "\\mathbf{u} = \\begin{pmatrix} x_0,\\dots x_{M-1}, y_0,\\dots y_{M-1}, x'_0,\\dots x'_{M-1}, y'_0,\\dots y'_{M-1} \\end{pmatrix}\n",
    "$$\n",
    "and\n",
    "$$\n",
    "f(\\mathbf{u}) = \\begin{pmatrix} x'_0,\\dots x'_{M-1}, y'_0,\\dots y'_{M-1},\n",
    "F_0^x,\\dots,F_{M-1}^x, F_0^y,\\dots,F_{M-1}^y\\end{pmatrix}.\n",
    "$$\n",
    "To model the Earth-moon system, we need various constants:\n",
    "$$\n",
    "G = 6.67384\\times 10^{-11}\\,\\mathrm{N}\\cdot(\\mathrm{m/kg})^2\\\\\n",
    "$$\n",
    "$$\n",
    "m_\\mathrm{earth} = 5.972\\times 10^{24}\\,\\mathrm{kg},\\quad m_\\mathrm{moon} = 7.348 \\times 10^{22}\\,\\mathrm{kg},\\quad m_\\mathrm{apollo}\\simeq 30\\times 10^3\\,\\mathrm{kg}.\n",
    "$$\n",
    "Moon's distance and velocity relative to Earth:\n",
    "$$\n",
    "x_\\mathrm{moon}= 384400.0\\times 10^3\\,\\mathrm{m},\\quad y'_\\mathrm{moon} = 1.023\\times 10^3\\,\\mathrm{m/s}.\n",
    "$$\n",
    "To make the center-of-mass of the combined system fixed, choose a cancelling initial velocity for the Earth:\n",
    "$$\n",
    "\\quad y'_\\mathrm{earth} = -y'_\\mathrm{moon} \\frac{m_\\mathrm{moon}}{m_\\mathrm{earth}}\n",
    "$$"
   ]
  },
  {
   "cell_type": "code",
   "execution_count": 43,
   "metadata": {
    "collapsed": false
   },
   "outputs": [],
   "source": [
    "n_body = 2\n",
    "M_multibody = 4 * n_body\n",
    "masses = [5.972e24,      # Mass of earth\n",
    "         1.e24,#7.34767309e22, # Mass of moon\n",
    "         30.0e3]        # ~ mass of Apollo\n",
    "G = 6.67384e-11     # Universal graviational constant\n",
    "\n",
    "def f_multibody(u):\n",
    "    x    = u[0:n_body]\n",
    "    y    = u[n_body:2*n_body]\n",
    "    xdot = u[2*n_body:3*n_body]\n",
    "    ydot = u[3*n_body:]\n",
    "    f = np.zeros((n_body,4))\n",
    "    f[:,0] = xdot\n",
    "    f[:,1] = ydot\n",
    "    for i in range(n_body):\n",
    "        for j in range(n_body):\n",
    "            if i != j:\n",
    "                r = np.sqrt( (x[j]-x[i])**2 + (y[j]-y[i])**2 )\n",
    "                f[i,2] += G*masses[j]*(x[j]-x[i])/r**3\n",
    "                f[i,3] += G*masses[j]*(y[j]-y[i])/r**3\n",
    "    return f.T.flatten()\n",
    "\n",
    "def jac_multibody(u):\n",
    "    x    = u[0:n_body]\n",
    "    y    = u[n_body:2*n_body]\n",
    "    xdot = u[2*n_body:3*n_body]\n",
    "    ydot = u[3*n_body:]\n",
    "    jac = np.zeros((M_multibody,M_multibody))\n",
    "    \n",
    "    jac[0:2*n_body,2*n_body:] = np.eye(2 * n_body)\n",
    "    for i in range(n_body):\n",
    "        for j in range(n_body):\n",
    "            if i != j:    \n",
    "                r = np.sqrt( (x[j]-x[i])**2 + (y[j]-y[i])**2 )\n",
    "                dFdxj = G*masses[j]*(np.eye(2)/r**3 - \n",
    "                          3./r**5*np.array([[(x[j]-x[i])**2,(x[j]-x[i])*(y[j]-y[i])],\n",
    "                                            [(x[j]-x[i])*(y[j]-y[i]),(y[j]-y[i])**2]]))\n",
    "                dFdxi = G*masses[j]*(-np.eye(2)/r**3 - \n",
    "                          3./r**5*np.array([[(x[j]-x[i])**2,(x[j]-x[i])*(y[j]-y[i])],\n",
    "                                            [(x[j]-x[i])*(y[j]-y[i]),(y[j]-y[i])**2]]))                \n",
    "                jac[2*n_body+i,j]        += dFdxj[0,0]\n",
    "                jac[2*n_body+i,j]        += dFdxj[0,1]\n",
    "                jac[2*n_body+i,n_body+j] += dFdxj[0,1]\n",
    "                jac[3*n_body+i,j]        += dFdxj[1,0]\n",
    "                jac[3*n_body+i,n_body+j] += dFdxj[1,1]\n",
    "    return jac\n",
    "\n",
    "x_moon = 384400.0e3\n",
    "\n",
    "# Calculate velocity of earth/moon resulting in a circular orbit\n",
    "# about the Earth-moon CoM.\n",
    "r_moon  = masses[0]*x_moon/(masses[0]+masses[1])\n",
    "r_earth = masses[1]*x_moon/(masses[0]+masses[1])\n",
    "T = np.sqrt(4.*np.pi**2*x_moon**3 / (G*(masses[0]+masses[1]))) # Orbital period\n",
    "vel_moon  = 2.*np.pi*r_moon/T\n",
    "vel_earth = -2.*np.pi*r_earth/T\n",
    "\n",
    "def init_multibody():\n",
    "    theta = 25.*np.pi/180\n",
    "    return [        0, x_moon,     -x_moon/10*np.cos(theta),    # x-position (Earth at origin)\n",
    "                    0,      0,     -x_moon/10*np.sin(theta),\n",
    "                    0,      0,     1.6*2600.*-np.sin(theta),    # x-vel (center-of-mass stationary)\n",
    "            vel_earth,   vel_moon, 1.6*2600.*np.cos(theta)] "
   ]
  },
  {
   "cell_type": "code",
   "execution_count": 44,
   "metadata": {
    "collapsed": false
   },
   "outputs": [
    {
     "data": {
      "text/plain": [
       "<matplotlib.legend.Legend at 0x10c6429d0>"
      ]
     },
     "execution_count": 44,
     "metadata": {},
     "output_type": "execute_result"
    },
    {
     "data": {
      "image/png": "[encoded data removed]",
      "text/plain": [
       "<matplotlib.figure.Figure at 0x10c642ad0>"
      ]
     },
     "metadata": {},
     "output_type": "display_data"
    }
   ],
   "source": [
    "N, deltat = 200*60, 60.\n",
    "Tmax = N * deltat\n",
    "u = np.zeros((N, M_multibody))\n",
    "u[0,:] = np.array(init_multibody()).reshape(4,3)[:,:2].reshape(8)     # Initial condition\n",
    "for i in range(N-1):\n",
    "    u[i+1,:] = rk4(f_multibody, u[i], deltat)\n",
    "plt.figure(figsize=(10,10))\n",
    "plt.plot(u[:,0], u[:,0+n_body], '-ob', label='Earth')\n",
    "plt.plot(u[:,1], u[:,1+n_body], '-k', label='Moon')\n",
    "#plt.plot(u[:,2], u[:,2+n_body], '-r', label='Apollo')\n",
    "plt.xlim(-6.1*x_moon, 6.1*x_moon)\n",
    "plt.ylim(-6.1*x_moon, 6.1*x_moon)\n",
    "plt.legend()"
   ]
  }
 ],
 "metadata": {
  "kernelspec": {
   "display_name": "Python 3",
   "language": "python",
   "name": "python3"
  },
  "language_info": {
   "codemirror_mode": {
    "name": "ipython",
    "version": 3
   },
   "file_extension": ".py",
   "mimetype": "text/x-python",
   "name": "python",
   "nbconvert_exporter": "python",
   "pygments_lexer": "ipython3",
   "version": "3.4.3"
  }
 },
 "nbformat": 4,
 "nbformat_minor": 0
}
