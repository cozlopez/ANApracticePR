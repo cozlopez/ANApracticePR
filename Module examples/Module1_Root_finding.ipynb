{
 "cells": [
  {
   "cell_type": "markdown",
   "metadata": {},
   "source": [
    "## Module 1: Root-finding methods"
   ]
  },
  {
   "cell_type": "markdown",
   "metadata": {
    "collapsed": true
   },
   "source": [
    "*Material for this worksheet can be found in Chapters 2 of the AE2220-I lecture notes*"
   ]
  },
  {
   "cell_type": "markdown",
   "metadata": {},
   "source": [
    "### Problem statement"
   ]
  },
  {
   "cell_type": "markdown",
   "metadata": {},
   "source": [
    "A root-finding method is a numerical method or algorithm to find a value of $x\\in[a,b]$,such that $f(x) = 0$, \n",
    "where $f$ is a continuous real function of 1-variable on the interval $[a,b]$, written \n",
    "$$\n",
    "f:\\mathbb{R}\\rightarrow\\mathbb{R}, f\\in C^0([a,b]).\n",
    "$$\n",
    "\n",
    "A value of $x$ satisfying $f(x)=0$ is called a *root* of the function $f$.\n",
    "\n",
    "Except for special cases, it is usually not possible to find analytic expressions for the roots.  For example, consider expressions for the roots of polynomials: linear - trivial, quadratic - simple, cubic/quartic - possible, quintic and above - impossible (see Abel–Ruffini theorem <a href=https://en.wikipedia.org/wiki/Abel%E2%80%93Ruffini_theorem>[1]</a>). \n",
    "\n",
    "Thus computational methods for root-finding problems must be iterative in nature:\n",
    "\n",
    "- Start with an initial approximation of the root $x_0$.\n",
    "- Construct a sequence of $x_k = \\phi(x_{k-1})$ iterates, for a suitable function $\\phi(x)$, with the expectation/hope that $\\lim_{k\\rightarrow \\infty} f(x_k) = 0$.\n",
    "\n",
    "Three important considerations for iterative methods are:\n",
    "\n",
    "1. Conditions for convergence (i.e. \"Is the root eventually found?\")\n",
    "2. Convergence *rate* (i.e. \"How many iterations until the root is found?\")\n",
    "3. Stopping criterion (i.e. \"When can we stop iterating?\")\n",
    "\n",
    "These will be examined in detail with the help of plots and sample codes in the following sections."
   ]
  },
  {
   "cell_type": "code",
   "execution_count": 1,
   "metadata": {
    "collapsed": true
   },
   "outputs": [],
   "source": [
    "%matplotlib inline\n",
    "import numpy as np\n",
    "import math\n",
    "import matplotlib.pyplot as plt\n",
    "from copy import copy"
   ]
  },
  {
   "cell_type": "markdown",
   "metadata": {},
   "source": [
    "In root-finding - and whenever we attempt to solve a problem numerically - we should ask two questions:\n",
    "\n",
    "- Does a solution <b>exist</b>?\n",
    "- Is that solution <b>unique</b>?\n",
    "\n",
    "Generally speaking, we are most happy if the answer to both is \"yes\".  If the answer to the first is \"no\", our numerical methods should ideally fail - e.g. report an error, as the problem has no answer.  If the answer to the second is \"no\", then there are multiple solutions, yet all our numerical methods below will return exactly <b>one</b> solution.  Then we should be aware that our numerical method is giving only a partial answer.\n",
    "\n",
    "The code given below plots the graphs for the following functions:\n",
    "\n",
    "$f_\\text{poly}(x) = x^3 - x + 1$\n",
    "\n",
    "$f_\\text{tan}(x) = \\text{tan}(x) - x$\n",
    "\n",
    "$f_\\text{cos}(x) = \\text{cos}(x) - 2x$\n",
    "\n",
    "$f_\\text{exp}(x) = \\text{e}^x - 2x$\n",
    "\n",
    "Run the code for each function and try and visualize if the functions above have a unique solution in a particular interval.  Find intervals $[a,b]$ where (i) multiple solutions exist, (ii) no solutions exist.  Note: plotting $\\tan(x)$ and $x$ separately and examining where they cross can give more insight than just plotting $\\tan(x)-x$."
   ]
  },
  {
   "cell_type": "code",
   "execution_count": 35,
   "metadata": {
    "collapsed": false
   },
   "outputs": [
    {
     "data": {
      "text/plain": [
       "<matplotlib.lines.Line2D at 0x1129816a0>"
      ]
     },
     "execution_count": 35,
     "metadata": {},
     "output_type": "execute_result"
    },
    {
     "data": {
      "image/png": "[encoded data removed]",
      "text/plain": [
       "<Figure size 640x480 with 1 Axes>"
      ]
     },
     "metadata": {},
     "output_type": "display_data"
    }
   ],
   "source": [
    "a,b = 2,5\n",
    "\n",
    "def f_poly(x): return x**3 - x + 1. \n",
    "def dfdx_poly(x): return 3.*x**2 - 1.  ### Derivatives are needed later...\n",
    "def d2fdx2_poly(x): return 6.*x\n",
    "\n",
    "def f_tan(x): return np.tan(x)-x\n",
    "def dfdx_tan(x): return np.tan(x)**2 \n",
    "def d2fdx2_tan(x): return 2.*np.sin(x)/np.cos(x)**3\n",
    "\n",
    "def f_cos(x): return np.cos(x) - 2.* x \n",
    "def dfdx_cos(x): return -np.sin(x) - 2.\n",
    "def d2fdx2_cos(x): return -np.cos(x)\n",
    "\n",
    "def f_exp(x): return math.exp(x) - 2.*x\n",
    "def dfdx_exp(x): return math.exp(x) - 2.\n",
    "def d2fdx2_exp(x): return math.exp(x)\n",
    "\n",
    "xx = np.linspace(a,b,101)\n",
    "\n",
    "plt.plot(xx, f_tan(xx) , '-b')\n",
    "plt.axhline(y=0,xmin=-2,xmax=2,color='k')  # Plot the y=0 line\n",
    "\n",
    "#plt.ylim(-2,6) # for f_tan"
   ]
  },
  {
   "cell_type": "markdown",
   "metadata": {},
   "source": [
    "###  Algorithm #1: Recursive bisection"
   ]
  },
  {
   "cell_type": "markdown",
   "metadata": {},
   "source": [
    "In the simplest of terms, recursive bisection is a root-finding method that repeatedly bisects an interval and then selects a subinterval in which a root must lie for further processing. It is a very simple and robust method, but also relatively slow. Let us implement the method according to the algorithm from the lecture notes."
   ]
  },
  {
   "cell_type": "code",
   "execution_count": 26,
   "metadata": {
    "collapsed": false
   },
   "outputs": [],
   "source": [
    "def recursive_bisection(ff, a, b, min_error=1.e-8):\n",
    "    #assert ff(a) * ff(b) < 0.                ### check the initial interval contains a root\n",
    "    ai, bi = float(a), float(b)              ### set initial interval\n",
    "    plotint = [(ai,bi)]\n",
    "    while 0.5*np.abs(bi-ai) > min_error:     ### check that we're not converged\n",
    "        ci = (ai + bi)/2                     ### midpoint of current interval\n",
    "        if ff(ai) * ff(ci) < 0:              ### select which 1/2 interval to continue with\n",
    "            bi = ci\n",
    "        else:\n",
    "            ai = ci\n",
    "        plotint.append((ai,bi))              ### store interval for plotting\n",
    "    return ci, plotint"
   ]
  },
  {
   "cell_type": "markdown",
   "metadata": {},
   "source": [
    "The following plotting function visualizes the progress of the algorithm:"
   ]
  },
  {
   "cell_type": "code",
   "execution_count": 11,
   "metadata": {
    "collapsed": false
   },
   "outputs": [],
   "source": [
    "def bisection_progress_plot(fb, a, b):\n",
    "    xx = np.linspace(a,b,101)\n",
    "    plt.figure(figsize=(14,10))\n",
    "    plt.plot(xx, fb(xx), '-b')               ### plot function\n",
    "    for i,(ai,bi) in enumerate(plotint):     ### plot intervals/midpoints\n",
    "        height = -4.*i/len(plotint)\n",
    "        plt.plot([ai,bi], height*np.array([1.,1.]), '--or')\n",
    "        plt.plot([(ai+bi)/2,(ai+bi)/2], height*np.array([1.,1.]), '-oy')\n",
    "        plt.text(ai-(b-a)/40., height, r\"$%d$\"%i, fontsize=10)\n",
    "    plt.ylim(-4,4)\n"
   ]
  },
  {
   "cell_type": "code",
   "execution_count": 36,
   "metadata": {
    "collapsed": false
   },
   "outputs": [
    {
     "name": "stdout",
     "output_type": "stream",
     "text": [
      "Approximation: 4.493408679962158\n"
     ]
    },
    {
     "data": {
      "image/png": "[encoded data removed]",
      "text/plain": [
       "<Figure size 1400x1000 with 1 Axes>"
      ]
     },
     "metadata": {},
     "output_type": "display_data"
    }
   ],
   "source": [
    "xreference, plotint = recursive_bisection(f_tan, a, b, 1.e-6)\n",
    "print('Approximation:',xreference)\n",
    "bisection_progress_plot(f_tan, a, b)"
   ]
  },
  {
   "cell_type": "markdown",
   "metadata": {},
   "source": [
    "The only modification we have made is to check initially if a root exists in the interval (try removing this and see what happens for an interval for which the condition is not satisfied).  Also the intermediate intervals are stored so that we can plot them later and see the progress of the method."
   ]
  },
  {
   "cell_type": "markdown",
   "metadata": {},
   "source": [
    "#### Convergence plot - Measures of error"
   ]
  },
  {
   "cell_type": "markdown",
   "metadata": {},
   "source": [
    "We are interested in methods that <i>converge</i> quickly, i.e. for which the error reduces rapidly as $k$ increases.  We define the **true error** with respect to the exact solution $\\tilde x$:\n",
    "$$\n",
    "\\tilde e_k := x_k - \\tilde x.\n",
    "$$\n",
    "However $\\tilde x$ is unknown - it's the quantity we're trying to find!  We say $e_k$ is not *computable*.  As a compromise we plot the **approximate error** with respect to the solution on the <i>final iteration</i> - using this as a reference solution, under the assumption that it is more accurate than the solution at all other iterations, and therefore estimates of the error will not be too far off:\n",
    "$$\n",
    "\\tilde e_k \\simeq \\hat e_k := x_k - x_{k,\\text{final}}.\n",
    "$$\n",
    "This is not ideal, as $x_{k,\\text{final}}$ is only known at the end of the process, and if the process doesn't converge our reference solution is bad, and $\\hat e_k$ may be zero even though $f(x_k)=0$ is not satisfied.  Therefore the  **residual error** is useful:\n",
    "$$\n",
    "\\epsilon_k := f(x_k)\n",
    "$$\n",
    "which is easy to compute, and only zero if the equation is satisfied.\n",
    "\n",
    "Finally a particular algorithm may have an **error estimate**.  In recursive bisection we have a guarantee that the root is in the interval $[a_k, b_k]$, giving us an upper bound on the error of:\n",
    "$$\n",
    "\\bar e_k := \\frac{b_k - a_k}{2}.\n",
    "$$"
   ]
  },
  {
   "cell_type": "code",
   "execution_count": 15,
   "metadata": {
    "collapsed": false
   },
   "outputs": [],
   "source": [
    "def bisection_convergence(plotint,xrefer,f_bis):\n",
    "    n = len(plotint)-1\n",
    "    nn = range(n)\n",
    "    error_estimate, error_approx, error_residual = np.zeros(n), np.zeros(n), np.zeros(n)\n",
    "    for i in range(n):\n",
    "        ai, bi = plotint[i][0], plotint[i][1]\n",
    "        ci = (ai + bi)/2\n",
    "        error_estimate[i] = (bi - ai)/2\n",
    "        error_approx[i]     = np.abs(ci - xrefer)\n",
    "        error_residual[i] = np.abs(f_bis(ci))\n",
    "    \n",
    "    plt.plot(nn[:-1], np.log10(error_approx[:-1]), '-o', label=r'$\\hat e_k$ - Approximate error')\n",
    "    plt.plot(nn, np.log10(error_estimate), '-o', label=r'$\\bar e$ - RB Error estimate')\n",
    "    plt.plot(nn, np.log10(error_residual), '-o', label=r'$\\epsilon$ - Residual error')\n",
    "    plt.xlabel(r'$n$', fontsize=20)\n",
    "    plt.ylabel(r'$\\mathrm{log}_{10}(e)$', fontsize=20)\n",
    "    plt.legend()"
   ]
  },
  {
   "cell_type": "code",
   "execution_count": 16,
   "metadata": {
    "collapsed": false
   },
   "outputs": [
    {
     "data": {
      "image/png": "[encoded data removed]",
      "text/plain": [
       "<Figure size 640x480 with 1 Axes>"
      ]
     },
     "metadata": {},
     "output_type": "display_data"
    }
   ],
   "source": [
    "bisection_convergence(plotint,xreference,f_poly)"
   ]
  },
  {
   "cell_type": "markdown",
   "metadata": {},
   "source": [
    "**Exercise 1:**\n",
    "\n",
    "**(a) For a given min_error $\\epsilon$, predict the minimum number of iterations $N$ required.**  Hint: If $c_1 = \\frac {a+b}{2}$ is the midpoint of the initial interval and $c_n$ is the midpoint of the interval in the nth step, then the difference between $c_n$ and a solution $c$ is bounded by $|c_n-c| \\leq \\frac{| b-a |}{2^n}$."
   ]
  },
  {
   "cell_type": "markdown",
   "metadata": {},
   "source": [
    "**(b) Consider the function $f(x) =\\tan x - x$ in the interval $(-0.5,5).$**\n",
    "\n",
    "  0. **Plotting the function $y=\\tan x$ and $y = x$ earlier has given as an idea of the roots in the interval. Try finding the first non-zero positive root by starting with the interval $(1.0,5.0)$. Does the method converge to the first root? Why not? Is it possible to find the root by changing the interval?**\n",
    "\n",
    "  0. **Try to find the first root using the same interval.** Hint: Consider rewriting the function such that it is continous in the interval (1.0,5.0) \n"
   ]
  },
  {
   "cell_type": "code",
   "execution_count": 17,
   "metadata": {
    "collapsed": true
   },
   "outputs": [],
   "source": [
    "### TODO\n",
    "# You can call the already written functions recursive_bisection and bisection_progress_plot\n",
    "# directly by using arguments according to the question\n",
    "a1, b1 = 1.0, 5.0\n",
    "xx = np.linspace(a,b,101)\n"
   ]
  },
  {
   "cell_type": "markdown",
   "metadata": {},
   "source": [
    "**(c) The \"true\" error is always less than the estimated error - why?**"
   ]
  },
  {
   "cell_type": "markdown",
   "metadata": {},
   "source": [
    "### Algorithm #2: Fixed-point iteration"
   ]
  },
  {
   "cell_type": "markdown",
   "metadata": {},
   "source": [
    "Unlike recursive bisection, there are multiple possible Fixed Point Iterations for a given function. Recall that for the original equation  $f(x) = 0$, we need to define a $\\varphi(x)$ such that the equation can be rearranged to:\n",
    "$$\n",
    "x = \\varphi(x)\n",
    "$$\n",
    "\n",
    "Then an initial guess $x_0$ generates a sequence of estimates for the fixed point by setting:\n",
    "$$\n",
    " x_{k+1} = \\varphi(x_k), \\hspace{1cm} k= 1,2,...\n",
    "$$\n",
    "We will consider the function $f(x) = \\cos x - 2x$\n",
    "\n",
    "First choose a $\\varphi(x)$:"
   ]
  },
  {
   "cell_type": "code",
   "execution_count": null,
   "metadata": {
    "collapsed": false
   },
   "outputs": [],
   "source": [
    "def phi(x): return 0.5*np.cos(x)"
   ]
  },
  {
   "cell_type": "markdown",
   "metadata": {},
   "source": [
    "The implementation is extremely concise:"
   ]
  },
  {
   "cell_type": "code",
   "execution_count": null,
   "metadata": {
    "collapsed": false
   },
   "outputs": [],
   "source": [
    "def fixed_point(phi, x0, n_max):\n",
    "    plot_fpi = [x0]                  ### Store intermediate results for plotting\n",
    "    xi = x0\n",
    "    for i in range(n_max):\n",
    "        xi = phi(xi)\n",
    "        plot_fpi.append(xi)          ### Store intermediate results for plotting\n",
    "    return xi, np.array(plot_fpi)"
   ]
  },
  {
   "cell_type": "markdown",
   "metadata": {},
   "source": [
    "Again, visualization helps:"
   ]
  },
  {
   "cell_type": "code",
   "execution_count": null,
   "metadata": {
    "collapsed": false
   },
   "outputs": [],
   "source": [
    "def FPI_progress_plot(phi, a, b, plot_fpi):\n",
    "    xx = np.linspace(a,b,101)        ### change the values of a and b to zoom in on the \n",
    "                                     ### plot to get a clearer view of the behaviour of \n",
    "                                     ### the method  \n",
    "    plt.figure(figsize=(10,8))\n",
    "    plt.plot(xx, phi(xx), '-k', label=r'$\\varphi$')       ### plot function\n",
    "    plt.plot(xx, xx, '-r', label=r'$x=y$')                ### plot y=x\n",
    "    for i in range(len(plot_fpi)-1):                      ### plot construction lines \n",
    "        plt.plot([plot_fpi[i],plot_fpi[i]], [plot_fpi[i], phi(plot_fpi[i])], '-ob')\n",
    "        plt.plot([plot_fpi[i],plot_fpi[i+1]], [phi(plot_fpi[i]), phi(plot_fpi[i])], '-ob')\n",
    "    plt.legend(loc='lower right')"
   ]
  },
  {
   "cell_type": "code",
   "execution_count": null,
   "metadata": {
    "collapsed": false
   },
   "outputs": [],
   "source": [
    "x0 = 1.0\n",
    "a, b = -2, 2\n",
    "xreference, plot_fpi = fixed_point(phi, x0, 50)\n",
    "FPI_progress_plot(phi,a,b,plot_fpi)\n",
    "xreference"
   ]
  },
  {
   "cell_type": "markdown",
   "metadata": {},
   "source": [
    "And the convergence plot (we don't have an good error estimate $\\bar e_k$, here unlike for RB):"
   ]
  },
  {
   "cell_type": "code",
   "execution_count": null,
   "metadata": {
    "collapsed": false
   },
   "outputs": [],
   "source": [
    "### Ignore the last point in the convegence histories, that's\n",
    "### the reference!\n",
    "def FPI_convergence(plot_fpi, xreference, f_FPI):\n",
    "    n = len(plot_fpi)-1\n",
    "    nn = range(n)\n",
    "                                           ### Compute the errors\n",
    "    plot_fpi_error = np.abs(plot_fpi[:-1] - xreference)\n",
    "    plot_fpi_residual = np.abs(f_FPI(plot_fpi[:-1]))\n",
    "                                           ### Plot the errors against n\n",
    "    plt.figure(figsize=(12,5))\n",
    "    plt.subplot(121)\n",
    "    plt.plot(nn, np.log10(plot_fpi_error), '-o', label=r'$\\hat e_k$ - Approximate error')\n",
    "    plt.plot(nn, np.log10(plot_fpi_residual), '-o', label=r'$\\epsilon_k$ - Residual error')\n",
    "    plt.xlabel(r'$k$', fontsize=20)\n",
    "    plt.ylabel(r'$\\mathrm{log}_{10}(e)$', fontsize=20)\n",
    "    plt.legend()\n",
    "                                           ### Plot the convergence rate against n\n",
    "    plt.subplot(122)\n",
    "    plt.plot(nn[:-1], plot_fpi_residual[1:]/plot_fpi_residual[:-1], '-og')\n",
    "    plt.xlabel(r'$k$', fontsize=20)\n",
    "    plt.ylabel(r'$e_{k+1}/e_k$', fontsize=20)"
   ]
  },
  {
   "cell_type": "code",
   "execution_count": null,
   "metadata": {
    "collapsed": false
   },
   "outputs": [],
   "source": [
    "FPI_convergence(plot_fpi, xreference, f_cos)"
   ]
  },
  {
   "cell_type": "markdown",
   "metadata": {},
   "source": [
    "We've also plotted the <i>convergence rate</i> - i.e. the factor by which the error is reduced from one iteration to the next.  This plot has a plateau corresponding to the straight-line reduction of error in the left-hand plot.  [Convince yourself of this relationship; how would the left-hand plot change if the plateau moved up/down?]"
   ]
  },
  {
   "cell_type": "markdown",
   "metadata": {},
   "source": [
    "#### Stability of fixed-point iterations"
   ]
  },
  {
   "cell_type": "markdown",
   "metadata": {},
   "source": [
    "From the notes we know that for FPI to be stable and avoid divergence,\n",
    "$$\n",
    "\\left|\\frac{d\\varphi(x)}{dx}\\right| < 1 \\quad \\mbox{for all}\\quad x\\in [x_0, \\tilde x].\n",
    "$$\n",
    "We can verify by that the choice of $\\varphi(x)$ used above satisfies the condition near the exact root $\\tilde x$:"
   ]
  },
  {
   "cell_type": "code",
   "execution_count": null,
   "metadata": {
    "collapsed": false
   },
   "outputs": [],
   "source": [
    "def dphidx(x): return 0.5*(-np.sin(x))"
   ]
  },
  {
   "cell_type": "code",
   "execution_count": null,
   "metadata": {
    "collapsed": false
   },
   "outputs": [],
   "source": [
    "xx = np.linspace(a,b,101)\n",
    "plt.figure(figsize=(10,6))\n",
    "plt.subplot(211)\n",
    "plt.plot(xx, f_cos(xx), '-b', label=r'$f(x)$')       ### plot function\n",
    "plt.plot(xx, xx*0, '-k', label=r'$y=0$')      ### plot y=0\n",
    "plt.legend()\n",
    "plt.subplot(212)\n",
    "plt.plot(xx, dphidx(xx), '-r', label=r'$|d\\varphi(x)/dx|$')  ### plot function\n",
    "plt.plot(xx, xx*0+1, '-k', label=r'$y=1$')      ### plot y=0\n",
    "plt.legend()"
   ]
  },
  {
   "cell_type": "markdown",
   "metadata": {},
   "source": [
    "<b>Exercise 2:</b>\n",
    "\n",
    "**(a) Are these results consistent with the theory?  In particular, how is the rate of convergence related to $\\varphi'(\\tilde x)$?  Compute $\\varphi'(\\tilde x)$ at the root and compare it with the plateau in the convergence-rate plot.  Do they agree?  Why?**"
   ]
  },
  {
   "cell_type": "markdown",
   "metadata": {},
   "source": [
    "**(b) Consider the function $x=\\tan x$. Select an appropriate $\\varphi(x)$ and try and plot the values in the interval $(0,4.6)$. Are there any roots of $f(x)$ (outside the interval), to which the FPI will not converge?**"
   ]
  },
  {
   "cell_type": "markdown",
   "metadata": {},
   "source": [
    "**(c) Consider a different choice of $\\varphi(x)$.  How many possible choices are there?  Can you find a $\\varphi(x)$ that converges to the roots which the other $\\varphi$ didn't converge to?**"
   ]
  },
  {
   "cell_type": "code",
   "execution_count": null,
   "metadata": {
    "collapsed": true
   },
   "outputs": [],
   "source": [
    "### TODO\n",
    "a,b = 0.0,4.6\n",
    "xx = np.linspace(a,b,101)"
   ]
  },
  {
   "cell_type": "markdown",
   "metadata": {},
   "source": [
    "### Algorithm #3: Newton's method"
   ]
  },
  {
   "cell_type": "markdown",
   "metadata": {},
   "source": [
    "Newton's method is the most popular solution method, because it works for functions of arbitrarily many variables (unlike recursive bisection), and does not require careful choice of $\\varphi$ (unlike FPIs).  Newton's method can be expressed as:\n",
    "$$\n",
    "x_{k+1} = x_k - \\frac{f(x_k)}{f'(x_k)},\n",
    "$$\n",
    "so requires the derivative of $f$ as an argument:"
   ]
  },
  {
   "cell_type": "code",
   "execution_count": null,
   "metadata": {
    "collapsed": false
   },
   "outputs": [],
   "source": [
    "def newton(f, dfdx, x0, n_max):\n",
    "    plot_newton = [x0]                  ### Store intermediate results for plotting\n",
    "    xi = x0\n",
    "    for i in range(n_max):\n",
    "        xi = xi - f(xi)/dfdx(xi)\n",
    "        plot_newton.append(xi)          ### Store intermediate results for plotting\n",
    "    return xi, np.array(plot_newton)"
   ]
  },
  {
   "cell_type": "code",
   "execution_count": null,
   "metadata": {
    "collapsed": false
   },
   "outputs": [],
   "source": [
    "def newton_progress_plot(a,b,fn):\n",
    "    xx = np.linspace(a,b,101)\n",
    "\n",
    "    plt.figure(figsize=(14,10))\n",
    "    plt.plot(xx, fn(xx), '-b', label=r'$f(x)$')       ### plot function\n",
    "\n",
    "    plt.plot(xx, xx*0, '-k', label=r'$y=0$')         ### plot y=0\n",
    "    for i in range(len(plot_newton)-1):                    ### plot construction lines \n",
    "        plt.plot([plot_newton[i],plot_newton[i]], [0,fn(plot_newton[i])], '-or')\n",
    "        plt.plot([plot_newton[i],plot_newton[i+1]], [fn(plot_newton[i]),0], '-or')\n",
    "    plt.legend()\n",
    "    plt.ylim(-2,2)"
   ]
  },
  {
   "cell_type": "markdown",
   "metadata": {},
   "source": [
    "For the Newton's method, the selection of the initial value is important for convergence. For the polynomial function, notice that $f(-2) = 5$ and $f(-1) = 1$. Hence we can deduce that the root is between -2 and 1. So let us start with an initial value of $x_0 = -1$  "
   ]
  },
  {
   "cell_type": "code",
   "execution_count": null,
   "metadata": {
    "collapsed": false
   },
   "outputs": [],
   "source": [
    "x0 = -1.\n",
    "a,b = -2,2\n",
    "xref_newton, plot_newton = newton(f_poly, dfdx_poly, x0, 20)\n",
    "newton_progress_plot(a,b,f_poly)\n",
    "xref_newton\n"
   ]
  },
  {
   "cell_type": "markdown",
   "metadata": {},
   "source": [
    "Plotting the behaviour of the method has given us some insights (hopefully).A good indication of the general behaviour of the Newton method can be seen from the following link\n",
    "$\\href{https://en.wikipedia.org/wiki/Newton%27s_method#/media/File:NewtonIteration_Ani.gif}{[2]}$"
   ]
  },
  {
   "cell_type": "markdown",
   "metadata": {},
   "source": [
    "Try the newton method for the f_cos function and  see if the method converges to the root (Plotting the function in Section 1 would be a good idea to see where the root lies so that we can pick an initial value accordingly)."
   ]
  },
  {
   "cell_type": "markdown",
   "metadata": {},
   "source": [
    "The convergence plot for Newton is qualitatively different from that of Recursive Bisection and Fixed Point Iterations:"
   ]
  },
  {
   "cell_type": "code",
   "execution_count": null,
   "metadata": {
    "collapsed": false
   },
   "outputs": [],
   "source": [
    "def newton_convergence(plot_newton,xref,f):\n",
    "                                             ### Ignore the last point in the convegence \n",
    "                                             ### histories, that's the reference!\n",
    "    n = len(plot_newton)-1\n",
    "    nn = range(n)\n",
    "                                             ### Compute the errors\n",
    "    plot_newton_error = np.abs(plot_newton[:-1] - xref)\n",
    "    plot_newton_residual = np.abs(f(plot_newton[:-1]))\n",
    "                                             ### Plot the errors against n\n",
    "    plt.figure(figsize=(12,5))\n",
    "    plt.subplot(121)\n",
    "    plt.plot(nn, np.log10(plot_newton_error), '-o', label='True error in $x$')\n",
    "    plt.plot(nn, np.log10(plot_newton_residual), '-o', label='Residual error')\n",
    "    plt.xlabel(r'$n$', fontsize=20)\n",
    "    plt.ylabel(r'$\\mathrm{log}_{10}(e)$', fontsize=20)\n",
    "    plt.legend()\n",
    "                                             ### Plot the convergence rate against n\n",
    "    plt.subplot(122)\n",
    "    plt.plot(nn[:-1], plot_newton_residual[1:]/plot_newton_residual[:-1], '-og')\n",
    "    plt.xlabel(r'$n$', fontsize=20)\n",
    "    plt.ylabel(r'$e_{n+1}/e_n$', fontsize=20)"
   ]
  },
  {
   "cell_type": "code",
   "execution_count": null,
   "metadata": {
    "collapsed": false
   },
   "outputs": [],
   "source": [
    "newton_convergence(plot_newton,xref_newton,f_poly)"
   ]
  },
  {
   "cell_type": "markdown",
   "metadata": {},
   "source": [
    "Newton's method is a fixed-point iteration with $\\varphi(x)$ choosen as:\n",
    "$$\n",
    "\\varphi(x) = x - \\frac{f(x)}{f'(x)}\n",
    "$$\n",
    "and we saw in the notes that\n",
    "$$\n",
    "\\varphi'(x) = \\frac{f(x)f''(x)}{(f'(x))^2},\n",
    "$$\n",
    "Plotting:"
   ]
  },
  {
   "cell_type": "code",
   "execution_count": null,
   "metadata": {
    "collapsed": false
   },
   "outputs": [],
   "source": [
    "def dphi_newtondx(x,f,fp,fpp): return f(x)*fpp(x) / (fp(x)**2)"
   ]
  },
  {
   "cell_type": "code",
   "execution_count": null,
   "metadata": {
    "collapsed": false
   },
   "outputs": [],
   "source": [
    "xx = np.linspace(a,b,101)\n",
    "plt.figure(figsize=(10,6))\n",
    "plt.subplot(211)\n",
    "plt.plot(xx, f_poly(xx), '-b', label=r'$f(x)$')    ### plot function\n",
    "plt.plot(xx, xx*0, '-k', label=r'$y=0$')      ### plot y=0\n",
    "plt.legend()\n",
    "plt.subplot(212)\n",
    "plt.plot(xx, np.abs(dphi_newtondx(xx,f_poly,dfdx_poly,d2fdx2_poly)), '-r', \n",
    "             label=r'$|d\\varphi(x)/dx|$')  ### plot dphi'\n",
    "plt.plot(xx, xx*0, '-k', label=r'$y=0$')      ### plot y=0\n",
    "plt.plot(xx, xx*0+1, '-k', label=r'$y=1$')      ### plot y=1\n",
    "plt.ylim(-1,3)\n",
    "plt.legend()"
   ]
  },
  {
   "cell_type": "markdown",
   "metadata": {},
   "source": [
    "And we see that at the root $\\varphi'(\\tilde x) =0$ , explaining the amazing performance of Newton's method."
   ]
  },
  {
   "cell_type": "markdown",
   "metadata": {},
   "source": [
    "**Exercise 3:**\n",
    "\n",
    "**(a) We examine the importance of the initial value $x_0$.**\n",
    "\n",
    "  0. **The function $f(x) =xe^{-x^2}$ has a zero at $x=0$. Use the Newton's method to try and find this root using an initial value $x_0 =1$.**  Hint: Plotting the graph of the function might explain this peculiar behaviour\n",
    "\n",
    "  0. **What happens and why when the initial value $x_0 = 0.5$ is chosen?**\n",
    "\n",
    "  0. **Now try to find an initial value that will lead to the solution.**\n",
    "\n",
    "\n",
    "\n"
   ]
  },
  {
   "cell_type": "code",
   "execution_count": null,
   "metadata": {
    "collapsed": true
   },
   "outputs": [],
   "source": [
    "### TODO"
   ]
  },
  {
   "cell_type": "markdown",
   "metadata": {},
   "source": [
    "**(b) Convergence.  We shall consider the same function $f(x) =\\tan x - x$ in the interval $(-1.0,5).$ and try and find all roots in the interval (zero and positive) using the Newton method. Since we have already checked the sensitivity of the initial value in the previous question, use initial values of $x_0 = -1$ and $x_0 = 4.$ for finding the roots. Is there any difference between the rate of convergence for the two roots? Is this result consistent with the theory learnt in the lectures?** "
   ]
  },
  {
   "cell_type": "code",
   "execution_count": null,
   "metadata": {
    "collapsed": true
   },
   "outputs": [],
   "source": [
    "### TODO\n",
    "# Again use the already defined functions for the newton method calculation,plotting and convergence\n",
    "a, b = -.5, 5.\n",
    "xx = np.linspace(a,b,101)\n"
   ]
  },
  {
   "cell_type": "markdown",
   "metadata": {},
   "source": [
    "### Finally: Multi-dimensional problems"
   ]
  },
  {
   "cell_type": "markdown",
   "metadata": {},
   "source": [
    "The real power (and necessity) for root-finding methods occurs in the multidimensional case:\n",
    "$$\n",
    "f: \\mathbb{R}^n \\rightarrow \\mathbb{R}^n\n",
    "$$\n",
    "i.e. $f$ has $n$ inputs and $n$ outputs.  Then the equation\n",
    "$$\n",
    "f(\\mathbf{x}) = \\mathbf{0}\n",
    "$$\n",
    "represents a system of $n$ non-linear equations in $n$ unknowns.  In the <i>linear</i> case (where $f(\\mathbf{x}) = A\\mathbf{x} - \\mathbf{b}$), we know exactly when these problems have unique solutions, and we have methods for finding them (Linear Algebra).  In the non-linear case, unless we're lucky, we need to use numerical methods.  \n",
    "\n",
    "The derivation of Newton's method becomes: the Taylor series of $f$ at $x_k$ iswritten:\n",
    "$$\n",
    "f(\\mathbf{x}) = f(\\mathbf{x}_k) + J(\\mathbf{x}_k) (\\mathbf{x}-\\mathbf{x}_k) + \\mathcal{O}(\\mathbf{x}-\\mathbf{x}_k)^2\n",
    "$$\n",
    "where \n",
    "$$\n",
    "J(\\mathbf{x}) := \\left( \\begin{array}{ccc}\n",
    "             \\frac{\\partial f_1(x)}{\\partial x_1} & \\cdots & \\frac{\\partial f_1(x)}{\\partial x_n} \\\\\n",
    "             \\vdots & \\ddots & \\vdots \\\\\n",
    "             \\frac{\\partial f_n(x)}{\\partial x_1} & \\cdots & \\frac{\\partial f_n(x)}{\\partial x_n} \\end{array} \\right)\n",
    "$$ \n",
    "is the $(n\\times n)$ Jacobian matrix.  Neglecting higher-order terms, and setting the intercept to $0$ at the $k+1$th iteration gives:\n",
    "$$\n",
    "0 = f(\\mathbf{x}_k) + J(\\mathbf{x}_k) (\\mathbf{x}_{k+1}-\\mathbf{x}_k),\n",
    "$$\n",
    "leading to an expression for the Newton iteration\n",
    "$$ \n",
    "\\mathbf{x}_{k+1} = \\mathbf{x}_k - J(\\mathbf{x}_k)^{-1} f(\\mathbf{x}_k).\n",
    "$$\n",
    "Each iteration requires:\n",
    "\n",
    "  0. Evaluation of $f(\\mathbf{x}_k)$.\n",
    "  0. Evaluation of $J(\\mathbf{x}_k)$.\n",
    "  0. Solution of a linear system of algebraic equations $J(\\mathbf{x}_k) \\Delta \\mathbf{x}_k = -f(\\mathbf{x}_k)$ for the update.\n",
    "  0. Application of the update $\\mathbf{x}_{k+1} = \\mathbf{x}_k + \\Delta \\mathbf{x}_k$.\n",
    "\n",
    "  "
   ]
  },
  {
   "cell_type": "code",
   "execution_count": null,
   "metadata": {
    "collapsed": false
   },
   "outputs": [],
   "source": [
    "def newton_mdimensional(f, dfdx, x0, n_max):\n",
    "    plot_newtonm = [copy(x0)]\n",
    "    xi = x0\n",
    "    for i in range(n_max):\n",
    "        deltaxi = np.linalg.solve(dfdx(xi), -f(xi))\n",
    "        xi += deltaxi\n",
    "        plot_newtonm.append(copy(xi))\n",
    "    return xi, np.array(plot_newtonm)"
   ]
  },
  {
   "cell_type": "markdown",
   "metadata": {},
   "source": [
    "#### A sample 2-dimensional problem"
   ]
  },
  {
   "cell_type": "markdown",
   "metadata": {},
   "source": [
    "Find $x$, $y$ such that:\n",
    "$$\n",
    "x^2+y^2=1, \\quad xy=\\frac{1}{4}\n",
    "$$"
   ]
  },
  {
   "cell_type": "code",
   "execution_count": null,
   "metadata": {
    "collapsed": false
   },
   "outputs": [],
   "source": [
    "def f(xv): \n",
    "    x, y = xv[0], xv[1]\n",
    "    return np.array([1-x**2-y**2, .25 - x*y])"
   ]
  },
  {
   "cell_type": "code",
   "execution_count": null,
   "metadata": {
    "collapsed": false
   },
   "outputs": [],
   "source": [
    "def dfdx(xv):\n",
    "    x, y = xv[0], xv[1]\n",
    "    return np.array([[-2*x,-2*y],\n",
    "                     [  -y,  -x]])"
   ]
  },
  {
   "cell_type": "code",
   "execution_count": null,
   "metadata": {
    "collapsed": false
   },
   "outputs": [],
   "source": [
    "x0 = np.array([-2.0,1.0])\n",
    "xreference, plot_newtonm = newton_mdimensional(f, dfdx, x0, 10)\n",
    "xreference"
   ]
  },
  {
   "cell_type": "markdown",
   "metadata": {},
   "source": [
    "It's a good idea to check the residual, to see if this is really a solution:"
   ]
  },
  {
   "cell_type": "code",
   "execution_count": null,
   "metadata": {
    "collapsed": false
   },
   "outputs": [],
   "source": [
    "f(xreference)"
   ]
  },
  {
   "cell_type": "markdown",
   "metadata": {},
   "source": [
    "We can also look at the path the solution took in the $(x,y)$ plane:"
   ]
  },
  {
   "cell_type": "code",
   "execution_count": null,
   "metadata": {
    "collapsed": false
   },
   "outputs": [],
   "source": [
    "xx = np.linspace(-2.,2.,101)\n",
    "plt.figure(figsize=(8,8))\n",
    "### Plot lines on which individual equations are satisfied\n",
    "plt.plot(xx, np.sqrt(1-xx**2), '-k', label='Eqn 1')\n",
    "plt.plot(xx, -np.sqrt(1-xx**2), '-k')\n",
    "plt.plot(xx, 1./(4*xx), '-r', label='Eqn 2')\n",
    "plt.xlim(-2,2); plt.ylim(-2,2)\n",
    "### Plot path of Newton\n",
    "n = len(plot_newtonm)\n",
    "plt.plot(plot_newtonm[:,0], plot_newtonm[:,1], '-ob')\n",
    "plt.legend()\n",
    "plot_newtonm[:,1]"
   ]
  },
  {
   "cell_type": "markdown",
   "metadata": {},
   "source": [
    "How many roots of this equation exist?  From which $x_0$ does Newton converge to which root?  Are there values of $x_0$ for which it doesn't converge at all?"
   ]
  },
  {
   "cell_type": "code",
   "execution_count": null,
   "metadata": {
    "collapsed": false
   },
   "outputs": [],
   "source": []
  }
 ],
 "metadata": {
  "kernelspec": {
   "display_name": "Python 3",
   "language": "python",
   "name": "python3"
  },
  "language_info": {
   "codemirror_mode": {
    "name": "ipython",
    "version": 3
   },
   "file_extension": ".py",
   "mimetype": "text/x-python",
   "name": "python",
   "nbconvert_exporter": "python",
   "pygments_lexer": "ipython3",
   "version": "3.12.0"
  }
 },
 "nbformat": 4,
 "nbformat_minor": 0
}
