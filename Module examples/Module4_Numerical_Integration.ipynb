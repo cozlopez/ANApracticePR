{
 "cells": [
  {
   "cell_type": "markdown",
   "metadata": {},
   "source": [
    "## Module 4: Numerical Integration "
   ]
  },
  {
   "cell_type": "markdown",
   "metadata": {},
   "source": [
    "*Material for this worksheet can be found in the AE2220-I lecture notes Chapter 7.*"
   ]
  },
  {
   "cell_type": "markdown",
   "metadata": {},
   "source": [
    "### Problem Statement"
   ]
  },
  {
   "cell_type": "markdown",
   "metadata": {},
   "source": [
    "We have already covered numerical differentiation. On the other side we have numerical integration, also called *numerical quadrature*. In this case, the objective is to obtain an approximate solution for definite integrals."
   ]
  },
  {
   "cell_type": "markdown",
   "metadata": {},
   "source": [
    "The basic notation is:\n",
    "$$\n",
    "\\int_a^b f(x) dx \\approx \\sum\\limits_{i=0}^n w_i f(x_i)\n",
    "$$\n",
    "And we introduce the concise notation:\n",
    "$$\n",
    "I(f;a,b) := \\int_a^b f(x) dx \n",
    "$$\n",
    "$$\n",
    "Q(f;a,b) := \\sum\\limits_{i=0}^n w_i f(x_i)\n",
    "$$\n",
    "\n",
    "So now we can define the *quadrature error* as:\n",
    "$$\n",
    "E(f;a,b) := I(f;a,b) - Q(f;a,b)\n",
    "$$\n",
    "\n",
    "To solve for the weights, we specify that $Q$ should be *exact* for monomials of degree up to $n$.  These constraints can be written as a linear system, analgous to that for the *interpolation conditions* in polynomial interpolation:\n",
    "$$\n",
    "\\begin{pmatrix}\n",
    "  1 & 1 & \\cdots & 1 \\\\\n",
    "  x_0 & x_1 &  \\cdots & x_n \\\\\n",
    "  \\vdots &  \\vdots &  \\vdots &  \\vdots\\\\\n",
    "  x_0^n & x_1^n &  \\cdots & x_n^n\\\\\n",
    " \\end{pmatrix}\n",
    " \\begin{pmatrix}\n",
    "  w_0 \\\\\n",
    "  w_1 \\\\\n",
    "  \\vdots \\\\\n",
    "  w_n \\\\\n",
    " \\end{pmatrix}\n",
    " =\n",
    "  \\begin{pmatrix}\n",
    "  \\int_a^b\\, dx  \\\\\n",
    "  \\int_a^b x\\, dx \\\\\n",
    "  \\vdots \\\\\n",
    "  \\int_a^b x^n\\, dx  \\\\\n",
    " \\end{pmatrix}\n",
    "$$\n",
    "In particular the Vandermonde matrix $V$ is present again."
   ]
  },
  {
   "cell_type": "markdown",
   "metadata": {},
   "source": [
    "### Newton-Cotes Formulas"
   ]
  },
  {
   "cell_type": "markdown",
   "metadata": {},
   "source": [
    "Here, we are going to discuss just two simple approaches to solve the problem. Consider the case where we have equidistant nodes. The end points can be eiter included, *closed Newton-Cotes formulas*, or excluded, *open Newton-Cotes formulas*.  We will only study the closed Newton-Cotes formulas here."
   ]
  },
  {
   "cell_type": "markdown",
   "metadata": {},
   "source": [
    "The domain is divided into n subintervals, with width h \n",
    "$\\hspace{0.25cm}\n",
    "h = \\frac{(b-a)}{n}\n",
    "\\hspace{0.25cm}\n",
    "$\n",
    "and the number of nodes is \n",
    "$\\hspace{0.25cm}\n",
    "s = n + 1\n",
    "$"
   ]
  },
  {
   "cell_type": "markdown",
   "metadata": {},
   "source": [
    "The first case that will be studied is the ***Trapezoidal rule*** which corresponds to s = 2. Therefore, we use a straight line to approximate between the two points. "
   ]
  },
  {
   "cell_type": "markdown",
   "metadata": {},
   "source": [
    "$$\n",
    "\\begin{pmatrix}\n",
    "  1 & 1  \\\\\n",
    "  a & b \\\\\n",
    " \\end{pmatrix}\n",
    " \\begin{pmatrix}\n",
    "  w_0 \\\\\n",
    "  w_1 \\\\\n",
    " \\end{pmatrix}\n",
    " =\n",
    "  \\begin{pmatrix}\n",
    "  \\int_a^b dx = b-a \\\\\n",
    "  \\int_a^b x dx = \\frac{1}{2} (b^2-a^2)\\\\\n",
    " \\end{pmatrix}\n",
    "$$"
   ]
  },
  {
   "cell_type": "markdown",
   "metadata": {},
   "source": [
    "So\n",
    "$$\n",
    "\\int_a^b f(x) dx \\approx \\sum\\limits_{i=0}^n w_i f(x_i) = \\frac{(b-a)}{2} [f(a)+f(b)]\n",
    "$$"
   ]
  },
  {
   "cell_type": "markdown",
   "metadata": {},
   "source": [
    "The next case to be studied is ***Simpson's rule***, which corresponds to s = 3. In this case, we use a parabola to approximate between the two points. "
   ]
  },
  {
   "cell_type": "markdown",
   "metadata": {},
   "source": [
    "$$\n",
    "\\begin{pmatrix}\n",
    "  1 & 1 & 1 \\\\\n",
    "  a & \\frac{(b+a)}{2} & b \\\\\n",
    "  a^2 & (\\frac{(b+a)}{2})^2 & b^2 \\\\\n",
    " \\end{pmatrix}\n",
    " \\begin{pmatrix}\n",
    "  w_0 \\\\\n",
    "  w_1 \\\\\n",
    "  w_2 \\\\\n",
    " \\end{pmatrix}\n",
    " =\n",
    "  \\begin{pmatrix}\n",
    "  \\int_a^b dx = b-a \\\\\n",
    "  \\int_a^b x dx = \\frac{1}{2} (b^2-a^2)\\\\\n",
    "  \\int_a^b x^2 dx = \\frac{1}{3} (b^3-a^3)\\\\\n",
    " \\end{pmatrix}\n",
    "$$"
   ]
  },
  {
   "cell_type": "markdown",
   "metadata": {},
   "source": [
    "So\n",
    "$$\n",
    "\\int_a^b f(x) dx \\approx \\sum\\limits_{i=0}^n w_i f(x_i) = \\frac{(b-a)}{6} \\left[f(a) + 4f\\left(\\frac{(b+a)}{2}\\right) + f(b)\\right]\n",
    "$$"
   ]
  },
  {
   "cell_type": "markdown",
   "metadata": {},
   "source": [
    "### Numerical tests "
   ]
  },
  {
   "cell_type": "code",
   "execution_count": null,
   "metadata": {
    "collapsed": true
   },
   "outputs": [],
   "source": [
    "%matplotlib inline\n",
    "import matplotlib\n",
    "import matplotlib.pyplot as plt\n",
    "plt.rcParams.update({'axes.labelsize': 18})\n",
    "import numpy as np"
   ]
  },
  {
   "cell_type": "markdown",
   "metadata": {},
   "source": [
    "Again we consider the Runge function $f(x) = (1+x^2)^{-1}$ on $[0,1]$ with exact integral $\\pi/4$:"
   ]
  },
  {
   "cell_type": "code",
   "execution_count": null,
   "metadata": {
    "collapsed": false
   },
   "outputs": [],
   "source": [
    "a, b = 0.,1.\n",
    "def f(x): return 1./(1+x**2)\n",
    "If_exact = np.pi/4\n",
    "\n",
    "xx = np.linspace(a,b,1001)    # Samples for plotting\n",
    "            \n",
    "plt.plot(xx, f(xx))\n",
    "plt.xlabel(r'$x$'); plt.ylabel(r'$f$')"
   ]
  },
  {
   "cell_type": "markdown",
   "metadata": {},
   "source": [
    "The trapazoidal rule gives:"
   ]
  },
  {
   "cell_type": "code",
   "execution_count": null,
   "metadata": {
    "collapsed": false
   },
   "outputs": [],
   "source": [
    "Qf_trap = (b-a)/2*(f(a)+f(b))\n",
    "print('Approx=',Qf_trap, ', Exact=',If_exact, ', Error=',np.abs(Qf_trap - If_exact))"
   ]
  },
  {
   "cell_type": "markdown",
   "metadata": {},
   "source": [
    "And using Simpson's rule we can check that it approaches more accurately the solution."
   ]
  },
  {
   "cell_type": "code",
   "execution_count": null,
   "metadata": {
    "collapsed": false
   },
   "outputs": [],
   "source": [
    "Qf_simp = (b-a)/6*(f(a)+4*f((b+a)/2)+f(b))\n",
    "print('Approx=',Qf_simp, ', Exact=',If_exact, ', Error=',np.abs(Qf_simp - If_exact))"
   ]
  },
  {
   "cell_type": "markdown",
   "metadata": {},
   "source": [
    "### Composite rules"
   ]
  },
  {
   "cell_type": "markdown",
   "metadata": {},
   "source": [
    "Now, if instead of applying the methods over the whole interval we divide it into subintervals and compute the values in each one, we would reach a more accurate result. This leads to the ***Composite Trapezoidal rule*** and the ***Composite Simpsons rule***. "
   ]
  },
  {
   "cell_type": "markdown",
   "metadata": {},
   "source": [
    "So the *Composite Trapezoidal rule* would be\n",
    "$$\n",
    "\\int_a^b f(x) dx \\approx \\frac{h}{2} \\sum\\limits_{i=1}^n [f(x_{i+1}) + f(x_i)]\n",
    "$$"
   ]
  },
  {
   "cell_type": "markdown",
   "metadata": {},
   "source": [
    "Where h is as defined before, $h = \\frac{b-a}{n}$"
   ]
  },
  {
   "cell_type": "markdown",
   "metadata": {},
   "source": [
    "**Exercise 1: (a) Modify the code of the simple trapezoidal rule to solve the function $f(x) = e^{5-x}$ on an interval $[0,1]$ with N subintervals. The exact value of the integral is $(e-1)e^4$.**"
   ]
  },
  {
   "cell_type": "code",
   "execution_count": null,
   "metadata": {
    "collapsed": false
   },
   "outputs": [],
   "source": [
    "def f(x): return np.exp(5-x)\n",
    "If_exact = (np.e - 1) * np.e**4\n",
    "N = 100\n",
    "\n",
    "def composite_trapezoidal(f, a, b, N):\n",
    "    pass   ### TODO\n",
    "\n",
    "Qf_comptrap = composite_trapezoidal(f, a, b, N)\n",
    "print('Approx=',Qf_comptrap, ', Exact=',If_exact, ', Error=',np.abs(Qf_comptrap - If_exact))"
   ]
  },
  {
   "cell_type": "markdown",
   "metadata": {},
   "source": [
    "**(b) The code below plots the error again $N$ or $h$.  Remember the error $\\epsilon \\rightarrow 0$ as $N\\rightarrow \\infty$ if the method is *consistent*.  The *rate* at which it goes to zero is the *convergence*.  What is the convegence rate of composite trapezoid?  (1st-order $\\epsilon =  O(h)$, 2nd-order $\\epsilon =  O(h^2)$, etc.)**"
   ]
  },
  {
   "cell_type": "code",
   "execution_count": null,
   "metadata": {
    "collapsed": false
   },
   "outputs": [],
   "source": [
    "NN = np.arange(1,20)\n",
    "loghh = np.log10(1./NN)\n",
    "Qf = np.zeros(len(NN))\n",
    "for N in NN:\n",
    "    Qf[N-1] = composite_trapezoidal(f, a, b, N)\n",
    "logerror = np.log10(np.abs(Qf - If_exact))\n",
    "plt.plot(loghh, logerror, '-ob')\n",
    "plt.xlabel(r'$\\log_{10}(h)$'); plt.ylabel(r'$\\log_{10}(\\epsilon)$')\n",
    "\n",
    "from scipy.stats import linregress    # Compute the slope of the line\n",
    "print('Slope = ', linregress(loghh, logerror)[0])"
   ]
  },
  {
   "cell_type": "markdown",
   "metadata": {},
   "source": [
    "### Composite Simpson's rule"
   ]
  },
  {
   "cell_type": "markdown",
   "metadata": {},
   "source": [
    "*Composite Simpson's rule* is obtained by applying the usual Simpson's rule on each subinterval:\n",
    "$$\n",
    "\\int_a^b f(x) dx \\approx \\frac{h}{3} [f(x_0) + 2 \\sum\\limits_{i=1}^{\\frac{n}{2}-1} f(x_{2i}) + 4 \\sum\\limits_{i=1}^{\\frac{n}{2}} f(x_{2i-1}) + f(x_n)]\n",
    "$$"
   ]
  },
  {
   "cell_type": "markdown",
   "metadata": {},
   "source": [
    "**Exercise 2:**\n",
    "**(a) Implement composite Simpson's rule.  Test against the same function as in Exercise 1.**"
   ]
  },
  {
   "cell_type": "code",
   "execution_count": null,
   "metadata": {
    "collapsed": false
   },
   "outputs": [],
   "source": [
    "def composite_simpson(f, a, b, N):\n",
    "    pass   ### TODO\n",
    "\n",
    "Qf_compsimp = composite_simpson(f, a, b, N)\n",
    "print('Approx=',Qf_compsimp, ', Exact=',If_exact, ', Error=',np.abs(Qf_compsimp - If_exact))"
   ]
  },
  {
   "cell_type": "markdown",
   "metadata": {},
   "source": [
    "**(b) Use the code below to analyse the error of composite Simpson compared to Trapezoidal.  What is the convergence rate of composite-Simpson?**"
   ]
  },
  {
   "cell_type": "code",
   "execution_count": null,
   "metadata": {
    "collapsed": false
   },
   "outputs": [],
   "source": [
    "NN = np.arange(1,20)\n",
    "loghh = np.log10(1./NN)\n",
    "Qf_trap, Qf_simp= np.zeros(len(NN)), np.zeros(len(NN))\n",
    "for N in NN:\n",
    "    Qf_trap[N-1] = composite_trapezoidal(f, a, b, N)\n",
    "    Qf_simp[N-1] = composite_simpson(f, a, b, N)\n",
    "logerror_trap = np.log10(np.abs(Qf_trap - If_exact))\n",
    "logerror_simp = np.log10(np.abs(Qf_simp - If_exact))\n",
    "\n",
    "plt.plot(loghh, logerror_trap, '-ob', label='Trapezoidal')\n",
    "plt.plot(loghh, logerror_simp, '-or', label='Simpson')\n",
    "plt.legend()\n",
    "plt.xlabel(r'$\\log_{10}(h)$'); plt.ylabel(r'$\\log_{10}(\\epsilon)$')\n",
    "\n",
    "print('Slope = ', linregress(loghh, logerror_simp)[0])"
   ]
  },
  {
   "cell_type": "code",
   "execution_count": null,
   "metadata": {
    "collapsed": true
   },
   "outputs": [],
   "source": []
  }
 ],
 "metadata": {
  "kernelspec": {
   "display_name": "Python 3",
   "language": "python",
   "name": "python3"
  },
  "language_info": {
   "codemirror_mode": {
    "name": "ipython",
    "version": 3
   },
   "file_extension": ".py",
   "mimetype": "text/x-python",
   "name": "python",
   "nbconvert_exporter": "python",
   "pygments_lexer": "ipython3",
   "version": "3.4.3"
  }
 },
 "nbformat": 4,
 "nbformat_minor": 0
}
