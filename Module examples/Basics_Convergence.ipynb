{
 "cells": [
  {
   "cell_type": "markdown",
   "metadata": {},
   "source": [
    "## Numerical Analysis: Introduction, Motivation, Fundamental Principles"
   ]
  },
  {
   "cell_type": "markdown",
   "metadata": {},
   "source": [
    "### Problem statement"
   ]
  },
  {
   "cell_type": "markdown",
   "metadata": {},
   "source": [
    "Numerical analysis is a toolbox of methods to find solutions of analysis problems by purely arithmetic operations, that is $+$, $-$, $\\times$, and $\\div$.  For example, imagine you are performing a physics problem, that requires you to evaluate the definite integral:\n",
    "$$\n",
    "\\tilde I = \\int_a^b f(x)\\,\\mathrm{d}x = \\int_0^\\pi x \\sin x \\,\\mathrm{d}x.\n",
    "$$\n",
    "You can solve this exactly by applying the chain-rule, to discover $I=\\pi$.  But this is not possible for every integrand, for instance\n",
    "$$\n",
    "\\int_0^t \\sqrt{1+\\cos^2x}\\,\\mathrm{d}x\n",
    "$$\n",
    "has no closed-form <a href=http://en.wikipedia.org/wiki/Closed-form_expression>[1]</a> solution.  Let's consider the 1st problem:"
   ]
  },
  {
   "cell_type": "code",
   "execution_count": null,
   "metadata": {
    "collapsed": false
   },
   "outputs": [],
   "source": [
    "%matplotlib inline\n",
    "import numpy as np\n",
    "import matplotlib.pyplot as plt\n",
    "a,b = 0,np.pi\n",
    "def f(x): return x * np.sin(x)\n",
    "Iexact = np.pi"
   ]
  },
  {
   "cell_type": "markdown",
   "metadata": {},
   "source": [
    "### Numerical approach"
   ]
  },
  {
   "cell_type": "markdown",
   "metadata": {},
   "source": [
    "A <i>numerical</i> approach to the same problem is inspired by the geometric interpretation of the (Riemann <a href=http://en.wikipedia.org/wiki/Riemann_integral>[1]</a>) integral, as the area under the curve:"
   ]
  },
  {
   "cell_type": "code",
   "execution_count": null,
   "metadata": {
    "collapsed": false
   },
   "outputs": [],
   "source": [
    "xx = np.linspace(a,b,101)\n",
    "### Plot the line\n",
    "plt.plot(xx, f(xx), lw=2)\n",
    "### Plot the area\n",
    "plt.fill_between(xx, 0, f(xx), facecolor='gray', alpha=0.4)\n",
    "### Draw the math\n",
    "plt.text(0.5*(a + b), np.max(f(xx))/3,r\"$\\int_a^b f(x)dx$\", horizontalalignment='center', fontsize=20)"
   ]
  },
  {
   "cell_type": "markdown",
   "metadata": {},
   "source": [
    "This immediately suggest the Trapezoidal rule: divide the interval $[a,b]$ into $n$ smaller intervals, and approximate the area under the curve in each interval by the area of a trapezoid:"
   ]
  },
  {
   "cell_type": "code",
   "execution_count": null,
   "metadata": {
    "collapsed": false
   },
   "outputs": [],
   "source": [
    "n = 4\n",
    "xi = np.linspace(a,b,n+1)\n",
    "fi = f(xi)\n",
    "plt.plot(xx, f(xx), lw=2)\n",
    "# Plot each trapezoid\n",
    "for i in range(n):\n",
    "    plt.fill_between(xi[i:i+2], 0, fi[i:i+2], facecolor='gray', alpha=0.4)"
   ]
  },
  {
   "cell_type": "markdown",
   "metadata": {},
   "source": [
    "Writing this symbolically we have \n",
    "$$\n",
    "\\tilde I \\approx I^\\mathrm{trap}_n := \\sum_{i=0}^{n} h \\cdot \\frac{f(x_i) + f(x_{i+1})}{2}, \\\\\n",
    "x_i = \\frac{(b-a)i}{n}, \\\\\n",
    "h = \\frac{b-a}{n}\n",
    "$$\n",
    "Performing this step, from a graphical represpentation of our method, to an algebraic representation is an essential skill you should learn in this course.  The inverse, algebraic to graphical, is equally important.  From the graphical representation we can gain strong intuition about the method (e.g. that the error will decrease with more nodes), from the algebraic we can implement it:"
   ]
  },
  {
   "cell_type": "code",
   "execution_count": null,
   "metadata": {
    "collapsed": false
   },
   "outputs": [],
   "source": [
    "def I_trap(f,a,b,n):\n",
    "    sum = 0.\n",
    "    h = (b-a)/n\n",
    "    x = np.linspace(a, b, n+1)\n",
    "    for i in range(n):\n",
    "        sum += 0.5*h*(f(x[i]) + f(x[i+1]))\n",
    "    return sum"
   ]
  },
  {
   "cell_type": "markdown",
   "metadata": {},
   "source": [
    "And the approximate area is:"
   ]
  },
  {
   "cell_type": "code",
   "execution_count": null,
   "metadata": {
    "collapsed": false
   },
   "outputs": [],
   "source": [
    "I_trap(f,a,b,n)"
   ]
  },
  {
   "cell_type": "markdown",
   "metadata": {},
   "source": [
    "### Properties of the numerical approach"
   ]
  },
  {
   "cell_type": "markdown",
   "metadata": {},
   "source": [
    "It is not enough to have a numerical approximation of $\\tilde I$; we must also understand the properties of the approximation with respect to $n$ and the <i>error</i>:\n",
    "$$\n",
    "e_n^\\mathrm{trap} := | I_n^\\mathrm{trap} -\\tilde I|.\n",
    "$$"
   ]
  },
  {
   "cell_type": "markdown",
   "metadata": {},
   "source": [
    "#### Property #1: Consistency"
   ]
  },
  {
   "cell_type": "markdown",
   "metadata": {},
   "source": [
    "The most basic requirement on $I_n^\\mathrm{trap}$, is that the error approaches zero as $n$ approaches infinity (and $h$ approaches $0$).  We require:\n",
    "$$\n",
    "e_n \\rightarrow 0 \\quad \\mbox{as}\\quad n\\rightarrow\\infty \\quad(\\mbox{and}\\quad h\\rightarrow 0).\n",
    "$$\n",
    "If this is the case for a particular function $f$ and interval $[a,b]$, then the method is said to be <i>consistent</i> for that function.  If it is true for all functions of a particular class, e.g. all continuous functions $f\\in C^0([a,b])$, then we say the method is <i>consistent</i> for all continuous functions.  [<b>Background</b>: see <a href=http://en.wikipedia.org/wiki/Smoothness>[2]</a> for a discussion of different classes of functions.  In this course we will only use the $C^k(\\mathbb{R})$ spaces.]  If a method is not consistent, then it is almost <b>useless</b> as we can not trust the results."
   ]
  },
  {
   "cell_type": "markdown",
   "metadata": {},
   "source": [
    "**Exercise 1: Is the trapezoidal rule above consistent for $f(x) = x \\sin(x)$?  Is it consistent for all continuous functions?  The 2nd question comes down to trying to find a continuous function for which $I_n$ does not approach $\\tilde I$ as $n\\rightarrow\\infty$.  Can you think of a function for which it is not consistent?**"
   ]
  },
  {
   "cell_type": "markdown",
   "metadata": {},
   "source": [
    "Consistency can be verified for specific functions numerically:"
   ]
  },
  {
   "cell_type": "code",
   "execution_count": null,
   "metadata": {
    "collapsed": false
   },
   "outputs": [],
   "source": [
    "print('%6s %12s %12s' % ('n', 'I_n', '|I_n - I|'))\n",
    "for p in range(1,11):\n",
    "    n = 2**p\n",
    "    Iapprox = I_trap(f,a,b,n)\n",
    "    print('%6d %12.3e %12.3e' % (n, Iapprox, np.abs(Iapprox-Iexact)))"
   ]
  },
  {
   "cell_type": "markdown",
   "metadata": {},
   "source": [
    "#### Property #2: Convergence"
   ]
  },
  {
   "cell_type": "markdown",
   "metadata": {},
   "source": [
    "Convergence is closely related to consistency.  If a method is consistent $e_n\\rightarrow 0$ as $n\\rightarrow\\infty$, but $e_n$ may reduce very slowly - and therefore result in great computational expense.  Convergences concern the <b>rate</b> at which $e_n\\rightarrow 0$.  In particular we ask: <i>If we multiply $n$ by $10$, by what factor does $e$ reduce?</i>  We can investigate this numerically for the trapezoidal rule:"
   ]
  },
  {
   "cell_type": "code",
   "execution_count": null,
   "metadata": {
    "collapsed": false
   },
   "outputs": [],
   "source": [
    "M = 5\n",
    "nn = np.zeros(M,dtype='int')\n",
    "Iapprox = np.zeros(M)\n",
    "for p in range(1,M+1):\n",
    "    nn[p-1] = 10**p\n",
    "    Iapprox[p-1] = I_trap(f,a,b,nn[p-1])\n",
    "plt.plot(np.log10(nn), np.log10(np.abs(Iapprox-Iexact)), '-o')\n",
    "plt.xlabel(r'$\\log_{10}(n)$', fontsize=20)\n",
    "plt.ylabel(r'$\\log_{10}(e)$', fontsize=20)"
   ]
  },
  {
   "cell_type": "markdown",
   "metadata": {},
   "source": [
    "The plot is log-log as we are concerned with multiples of both $n$ and $e$.  The fact that it's a straight-line indicates that multiplying $n$ by $10$ has the same effect on $e$, whatever the value of $n$.  This is an example of a <i>convergence plot</i>.  We prefer methods for which this line is as steep as possible, because then only a small $n$ is needed for a highly accurate solution."
   ]
  },
  {
   "cell_type": "markdown",
   "metadata": {},
   "source": [
    "**Exercise 2: By what factor is $e$ reduced at when $n$ is multipled by $10$?  What value of $n$ is needed to achieve $e_n < 10^{-16}$?  What happens when you try to compute this?**"
   ]
  },
  {
   "cell_type": "markdown",
   "metadata": {},
   "source": [
    "#### Property #3: Stability"
   ]
  },
  {
   "cell_type": "markdown",
   "metadata": {},
   "source": [
    "The last property to discuss is <i>stability</i>.  A numerical method is unstable if initially increasing $n$ results in a reduction in error $e$, but further increasing $n$ causes an increase in error.  An example convergence plot for an unstable method might look as follows:"
   ]
  },
  {
   "cell_type": "code",
   "execution_count": null,
   "metadata": {
    "collapsed": false
   },
   "outputs": [],
   "source": [
    "nn = 2**np.linspace(1,5,16)\n",
    "plt.plot(np.log10(nn),np.log10(nn**-2 + 1.e-4*nn**2),'-o')\n",
    "plt.xlabel(r'$\\log_{10}(n)$', fontsize=20)\n",
    "plt.ylabel(r'$\\log_{10}(e)$', fontsize=20)"
   ]
  },
  {
   "cell_type": "markdown",
   "metadata": {},
   "source": [
    "An unstable method is not consistent (follows immediately from the defintions).  The trapezoidal rule is never unstable, in polynomial interpolation we will see some examples of instability."
   ]
  },
  {
   "cell_type": "markdown",
   "metadata": {},
   "source": [
    "### Numerical experimentation"
   ]
  },
  {
   "cell_type": "markdown",
   "metadata": {},
   "source": [
    "Try an integrand other than $f(x) = x \\sin(x)$.  Since the exact value is not computable in many cases, use \"scipy\"'s \"quad()\" function to come up with an accurate estimate."
   ]
  },
  {
   "cell_type": "code",
   "execution_count": null,
   "metadata": {
    "collapsed": false
   },
   "outputs": [],
   "source": [
    "from scipy.integrate import quad\n",
    "integral, error = quad(f, a, b)\n",
    "\n",
    "print(\"Exact:\", integral, \"+/-\", error)\n"
   ]
  },
  {
   "cell_type": "markdown",
   "metadata": {},
   "source": [
    "The function \"quad()\" uses some of the techinques we will learn in this course."
   ]
  },
  {
   "cell_type": "code",
   "execution_count": null,
   "metadata": {
    "collapsed": false
   },
   "outputs": [],
   "source": []
  }
 ],
 "metadata": {
  "kernelspec": {
   "display_name": "Python 3",
   "language": "python",
   "name": "python3"
  },
  "language_info": {
   "codemirror_mode": {
    "name": "ipython",
    "version": 3
   },
   "file_extension": ".py",
   "mimetype": "text/x-python",
   "name": "python",
   "nbconvert_exporter": "python",
   "pygments_lexer": "ipython3",
   "version": "3.4.3"
  }
 },
 "nbformat": 4,
 "nbformat_minor": 0
}
