{
 "cells": [
  {
   "cell_type": "markdown",
   "metadata": {},
   "source": [
    "## Radial Basis Function (RBF) Interpolation"
   ]
  },
  {
   "cell_type": "markdown",
   "metadata": {},
   "source": [
    "*Material for this worksheet can be found in the AE2220-I lecture notes Chapter 4.2.3.*"
   ]
  },
  {
   "cell_type": "markdown",
   "metadata": {},
   "source": [
    "### Problem statement"
   ]
  },
  {
   "cell_type": "markdown",
   "metadata": {},
   "source": [
    "Once more the goal is to find a curve passing through a set of samples (location and value). RBF interpolants are similar to the interpolants we saw in polynomial interpolation, the important difference is the choice of basis functions.  The interpolant is:\n",
    "$$\n",
    "\\phi(\\mathbf{x}) = \\sum_{i=0}^N a_i \\varphi( ||\\mathbf{x}-\\mathbf{x_i}|| )\n",
    "$$\n",
    "i.e. a linear sum of the $N+1$ basis functions\n",
    "$$\n",
    "\\varphi( ||\\mathbf{x}-\\mathbf{x_i}|| ),\\qquad i = 0,\\dots,N,\n",
    "$$\n",
    "where $||\\mathbf{x}-\\mathbf{x_i}||$ represents the distance between points $\\mathbf{x}$ and $\\mathbf{x_i}$.  The coefficients $a_i$ are determined using the (by now) well-known interpolations conditions. \n",
    "\n",
    "The key difference from polynomial interpolation is that the basis functions are automatically defined in any number of dimensions $d$, as they are <i>radially symmetric</i> and <i>\"centered\"</i> at the grid locations $\\mathbf{x}_i \\in\\mathbb{R}^d$.  This makes the generalization to interpolation in multiple dimensions immediate."
   ]
  },
  {
   "cell_type": "code",
   "execution_count": null,
   "metadata": {
    "collapsed": false
   },
   "outputs": [],
   "source": [
    "%matplotlib inline\n",
    "import matplotlib.pyplot as plt\n",
    "plt.rcParams.update({'axes.labelsize': 18})\n",
    "import numpy as np"
   ]
  },
  {
   "cell_type": "markdown",
   "metadata": {},
   "source": [
    "Some choices of $\\varphi(r)$ are (see also the notes):"
   ]
  },
  {
   "cell_type": "code",
   "execution_count": null,
   "metadata": {
    "collapsed": false
   },
   "outputs": [],
   "source": [
    "def phi_invquad(r,l): return 1./(1 + (l*r)**2)\n",
    "def phi_invmultiquad(r,l): return 1./np.sqrt(1 + (l*r)**2)\n",
    "def phi_multiquad(r,l): return np.sqrt(1 + (l*r)**2)\n",
    "def phi_linear(r,l): return r\n",
    "phis = [ phi_invquad, phi_invmultiquad, phi_multiquad, phi_linear]"
   ]
  },
  {
   "cell_type": "markdown",
   "metadata": {},
   "source": [
    "where the $l$ parameter controls the width of these functions. For $l=1.0$ these look like..."
   ]
  },
  {
   "cell_type": "code",
   "execution_count": null,
   "metadata": {
    "collapsed": false
   },
   "outputs": [],
   "source": [
    "rr = np.linspace(0,2,101)\n",
    "for phi in phis:\n",
    "    plt.plot(rr, phi(rr,1.0), label=phi.__name__)\n",
    "plt.xlabel(r'$r$'); plt.ylabel(r'$\\phi$')\n",
    "plt.legend()"
   ]
  },
  {
   "cell_type": "markdown",
   "metadata": {},
   "source": [
    "### Radial basis function interpolation in 1d"
   ]
  },
  {
   "cell_type": "markdown",
   "metadata": {},
   "source": [
    "Starting with the simplest case of 1d - setup of the problem:"
   ]
  },
  {
   "cell_type": "code",
   "execution_count": null,
   "metadata": {
    "collapsed": false
   },
   "outputs": [],
   "source": [
    "N_1d = 10                         ### Number of samples\n",
    "a,b = -4,4                        ### Interval of interest\n",
    "xi = np.linspace(a,b,N_1d+1)      ### Uniform sample locs\n",
    "phi,l = phi_invquad,1.\n",
    "xx = np.linspace(a,b,501)         ### Sampling of x, for plotting\n",
    "\n",
    "def f_1d(x): return np.sin(x)  ### Target function\n",
    "fi = f_1d(xi)                     ### Sample values "
   ]
  },
  {
   "cell_type": "code",
   "execution_count": null,
   "metadata": {
    "collapsed": false
   },
   "outputs": [],
   "source": [
    "plt.plot(xx,f_1d(xx))\n",
    "plt.plot(xi,fi,'ok')"
   ]
  },
  {
   "cell_type": "markdown",
   "metadata": {},
   "source": [
    "In addition to $\\varphi(x)$ we need to define a <i>metric</i>, specifying the distance between 2 points.  Typically this is the Euclidian distance, which in 1d is just:"
   ]
  },
  {
   "cell_type": "code",
   "execution_count": null,
   "metadata": {
    "collapsed": false
   },
   "outputs": [],
   "source": [
    "def dist_1d(x1, x2): return np.abs(x1-x2)"
   ]
  },
  {
   "cell_type": "markdown",
   "metadata": {},
   "source": [
    "Together with the grid this uniquely defines the basis-functions.  Plotting them:"
   ]
  },
  {
   "cell_type": "code",
   "execution_count": null,
   "metadata": {
    "collapsed": false
   },
   "outputs": [],
   "source": [
    "for x in xi:\n",
    "    plt.plot(xx, phi(dist_1d(x,xx),l))\n",
    "plt.plot(xi,0.*xi,'ok')"
   ]
  },
  {
   "cell_type": "markdown",
   "metadata": {},
   "source": [
    "Note that the basis functions depend on the grid - as did the Lagrange basis in polynomial interpolation.  The interpolation conditions can then be setup: the interpolation matrix is\n",
    "$$\n",
    "A_{ij} = \\varphi_j(\\mathbf{x}_i) = \\varphi( |\\mathbf{x}_i -\\mathbf{x}_j | )\n",
    "$$"
   ]
  },
  {
   "cell_type": "markdown",
   "metadata": {},
   "source": [
    "**Exercise 1**\n",
    "\n",
    "**(a) Define a function that builds the interpolation matrix for the RBF method. It should take 3 arguments: the sample locations *xi*, the type of basis function to use *phi* (this could be e.g. *phi_invquad*), and the scale-parameter *l*.**"
   ]
  },
  {
   "cell_type": "code",
   "execution_count": null,
   "metadata": {
    "collapsed": true
   },
   "outputs": [],
   "source": [
    "def interpolation_matrix_1d(xi,phi,l):\n",
    "    pass   ### TODO"
   ]
  },
  {
   "cell_type": "markdown",
   "metadata": {},
   "source": [
    "**(b) Plot this matrix with plt.imshow(A, interpolation='none'). What can be said about the structure of the matrix? When is $\\varphi(x_j)$ large? What is the effect of the scale-parameter *l* on the matrix?**"
   ]
  },
  {
   "cell_type": "markdown",
   "metadata": {},
   "source": [
    "Solve to find the cofficients $a_i$:"
   ]
  },
  {
   "cell_type": "code",
   "execution_count": null,
   "metadata": {
    "collapsed": false
   },
   "outputs": [],
   "source": [
    "coeffs = np.linalg.solve(A,fi)\n",
    "coeffs"
   ]
  },
  {
   "cell_type": "markdown",
   "metadata": {},
   "source": [
    "#### (c) Reconstruct $\\phi$ from the coefficients, plot the RBF interpolant and compare it with the exact function."
   ]
  },
  {
   "cell_type": "code",
   "execution_count": null,
   "metadata": {
    "collapsed": true
   },
   "outputs": [],
   "source": [
    "def reconstruct(xx):\n",
    "    pass   ### TODO"
   ]
  },
  {
   "cell_type": "markdown",
   "metadata": {},
   "source": [
    "**(d) What is the effect of varying the scale-parameter *l* on the quality of the reconstruction?  What happens for very large and very small values?  How would you recommend a user chooses this parameter in practice (for an unknown $f$).**"
   ]
  },
  {
   "cell_type": "markdown",
   "metadata": {},
   "source": [
    "### Radial basis function interpolation in 2d"
   ]
  },
  {
   "cell_type": "markdown",
   "metadata": {},
   "source": [
    "Radial basis function method is one of the primary tools for interpolating multi-dimensional data. They work well both with uniform (tensor-product) and scattered grids. The extension from 1D to 2D is very simple:"
   ]
  },
  {
   "cell_type": "code",
   "execution_count": null,
   "metadata": {
    "collapsed": false
   },
   "outputs": [],
   "source": [
    "N_2d = 40\n",
    "N_x,N_y = 9,9\n",
    "xmin,xmax,ymin,ymax = -4,4,-4,4\n",
    "\n",
    "def f_2d(x,y): return y**2/(1.+x**2)\n",
    "def dist_2d(x1,y1, x2,y2):\n",
    "    return np.sqrt((x1-x2)**2+(y1-y2)**2) ### Metric\n",
    "\n",
    "xx = np.linspace(xmin,xmax,41)  ### Sampling of x, for plotting\n",
    "yy = np.linspace(ymin,ymax,41)  ### Sampling of y\n",
    "xx,yy = np.meshgrid(xx, yy)     ### Tensor-product grid "
   ]
  },
  {
   "cell_type": "markdown",
   "metadata": {},
   "source": [
    "We can plot the basis function centered at $(x,y)=(0,0)$:"
   ]
  },
  {
   "cell_type": "code",
   "execution_count": null,
   "metadata": {
    "collapsed": false
   },
   "outputs": [],
   "source": [
    "from mpl_toolkits.mplot3d.axes3d import Axes3D\n",
    "from matplotlib import cm\n",
    "fig = plt.figure(figsize=(10,8))\n",
    "ax = fig.add_subplot(111,projection='3d')\n",
    "pp = phi_invquad(dist_2d(xx,yy, 0,0),l)\n",
    "ax.plot_surface(xx,yy,pp,rstride=1,cstride=1,linewidth=0,cmap=cm.coolwarm)"
   ]
  },
  {
   "cell_type": "markdown",
   "metadata": {},
   "source": [
    "**Exercise 2:**\n",
    "\n",
    "**(a) Change the centre and scale-parameter of the RBF in the code above to better understand how RBFs look and behave.**"
   ]
  },
  {
   "cell_type": "markdown",
   "metadata": {},
   "source": [
    "**(b) Selection of the sampling grid: In 2d there is more flexibility in choice of grid than in 1d.  Two options are random sampling, and sampling on a tensor-product grid.  The tensor-product grid is below - implement a randomly-sampled grid with the same number of points, and plot them.**"
   ]
  },
  {
   "cell_type": "code",
   "execution_count": null,
   "metadata": {
    "collapsed": false
   },
   "outputs": [],
   "source": [
    "### Tensor-product grid in 2d - uniform in each direction\n",
    "xi = np.linspace(xmin,xmax,N_x)\n",
    "yi = np.linspace(ymin,ymax,N_y)\n",
    "xi,yi = np.meshgrid(xi,yi)\n",
    "xi = xi.flatten(); yi = yi.flatten()"
   ]
  },
  {
   "cell_type": "code",
   "execution_count": null,
   "metadata": {
    "collapsed": true
   },
   "outputs": [],
   "source": [
    "#### TODO"
   ]
  },
  {
   "cell_type": "code",
   "execution_count": null,
   "metadata": {
    "collapsed": false
   },
   "outputs": [],
   "source": [
    "### Plot the grid\n",
    "plt.plot(xi,yi,'ok')\n",
    "plt.xlim(xmin,xmax); plt.ylim(ymin,ymax)"
   ]
  },
  {
   "cell_type": "markdown",
   "metadata": {},
   "source": [
    "**(c) Plot $f(x,y)$, together with the sample locations to have an idea of what kind of data is available to the interpolation method. Change from a uniform grid to a grid with randomly distributed points.**"
   ]
  },
  {
   "cell_type": "code",
   "execution_count": null,
   "metadata": {
    "collapsed": false
   },
   "outputs": [],
   "source": [
    "fi = f_2d(xi,yi)"
   ]
  },
  {
   "cell_type": "code",
   "execution_count": null,
   "metadata": {
    "collapsed": false
   },
   "outputs": [],
   "source": [
    "fig = plt.figure(figsize=(10,8))\n",
    "ax = fig.add_subplot(111,projection='3d')\n",
    "ff = f_2d(xx,yy)\n",
    "ax.plot_surface(xx,yy,ff,rstride=1,cstride=1,linewidth=0,cmap=cm.coolwarm)\n",
    "ax.plot(xi,yi,fi,'ok')"
   ]
  },
  {
   "cell_type": "markdown",
   "metadata": {},
   "source": [
    "#### Interpolation conditions"
   ]
  },
  {
   "cell_type": "markdown",
   "metadata": {},
   "source": [
    "Interpolation conditions in the 2D case are identical to those in 1D. In particular $A$ is still just $A = \\varphi(|\\mathbf{x}_i - \\mathbf{x}_j|)$."
   ]
  },
  {
   "cell_type": "markdown",
   "metadata": {},
   "source": [
    "**(d) Define a function called interpolation_matrix_2d which takes four arguments, the $x$ adn $y$ locations of the data, the RBF and the value of the shape parameter $l$. It should return the interpolation matrix $A$.**\n",
    "\n",
    "**(e) Plot the matrix and observe its structure. Why does the matrix look like this? Is the matrix always symmetric?**"
   ]
  },
  {
   "cell_type": "code",
   "execution_count": null,
   "metadata": {
    "collapsed": true
   },
   "outputs": [],
   "source": [
    "#### TODO\n",
    "def interpolation_matrix_2d(xi,yi,phi,l):\n",
    "    pass"
   ]
  },
  {
   "cell_type": "markdown",
   "metadata": {},
   "source": [
    "Solve for the coefficients $a_i$:"
   ]
  },
  {
   "cell_type": "code",
   "execution_count": null,
   "metadata": {
    "collapsed": false
   },
   "outputs": [],
   "source": [
    "coeffs = np.linalg.solve(A,fi)"
   ]
  },
  {
   "cell_type": "markdown",
   "metadata": {},
   "source": [
    "#### Reconstruction"
   ]
  },
  {
   "cell_type": "code",
   "execution_count": null,
   "metadata": {
    "collapsed": false
   },
   "outputs": [],
   "source": [
    "def reconstruct_2d(xx,yy):\n",
    "    out = np.zeros(xx.shape)\n",
    "    for i,(x,y) in enumerate(zip(xi,yi)):\n",
    "         out += coeffs[i] * phi(dist_2d(x,y,xx,yy),l)\n",
    "    return out"
   ]
  },
  {
   "cell_type": "code",
   "execution_count": null,
   "metadata": {
    "collapsed": false
   },
   "outputs": [],
   "source": [
    "fig = plt.figure(figsize=(10,8))\n",
    "ax = fig.add_subplot(111,projection='3d')\n",
    "zz = reconstruct_2d(xx,yy)\n",
    "ax.plot_surface(xx,yy,zz,rstride=1,cstride=1,linewidth=0,cmap=cm.coolwarm)\n",
    "ax.plot(xi, yi, fi, 'ok', label='samples')"
   ]
  },
  {
   "cell_type": "markdown",
   "metadata": {},
   "source": [
    "It's difficult to compare two surfaces in 3d plots - contour plots are easier to compare:"
   ]
  },
  {
   "cell_type": "code",
   "execution_count": null,
   "metadata": {
    "collapsed": false
   },
   "outputs": [],
   "source": [
    "plt.figure(figsize=(12,6))\n",
    "plt.subplot(121)\n",
    "cs = plt.contourf(xx,yy,ff,31)\n",
    "plt.plot(xi, yi, 'ok')\n",
    "plt.title('Original')\n",
    "plt.subplot(122)\n",
    "### Use the same levels in both plots with cs.levels\n",
    "plt.contourf(xx,yy,zz,cs.levels)\n",
    "plt.plot(xi, yi, 'ok')\n",
    "plt.title('RBF Reconstruction')"
   ]
  },
  {
   "cell_type": "markdown",
   "metadata": {},
   "source": [
    "**(f) Plot the absolute error in the form of a contour plot. Where is the largest error? Why? What would you do to reduce it?**"
   ]
  },
  {
   "cell_type": "code",
   "execution_count": null,
   "metadata": {
    "collapsed": true
   },
   "outputs": [],
   "source": [
    "#### TODO"
   ]
  },
  {
   "cell_type": "markdown",
   "metadata": {},
   "source": [
    "### Exercise 3 (optional)\n",
    "\n",
    "#### (a) In the list of possible RBF, the gaussian RBF was left out on purpose. Add this RBF in the code above and see what results it produces.\n",
    "#### (b) Compare the results with other choices of RBFs. How does the error of this RBF behaves (make sure to use the same scale)?"
   ]
  },
  {
   "cell_type": "markdown",
   "metadata": {},
   "source": [
    "The RBF method with gaussian RBFs is also called Kriging and is commonly used in many meteorological, geophysical and aerospace problems involving reconstruction of spatial data because of the possibility to obtain statistical quantities out of it. "
   ]
  },
  {
   "cell_type": "code",
   "execution_count": null,
   "metadata": {
    "collapsed": true
   },
   "outputs": [],
   "source": []
  }
 ],
 "metadata": {
  "kernelspec": {
   "display_name": "Python 3",
   "language": "python",
   "name": "python3"
  },
  "language_info": {
   "codemirror_mode": {
    "name": "ipython",
    "version": 3
   },
   "file_extension": ".py",
   "mimetype": "text/x-python",
   "name": "python",
   "nbconvert_exporter": "python",
   "pygments_lexer": "ipython3",
   "version": "3.4.3"
  }
 },
 "nbformat": 4,
 "nbformat_minor": 0
}
