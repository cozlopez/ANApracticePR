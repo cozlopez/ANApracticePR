{
 "cells": [
  {
   "cell_type": "markdown",
   "metadata": {},
   "source": [
    "## Lecture 1 - Trapezoidal rule convergence"
   ]
  },
  {
   "cell_type": "markdown",
   "metadata": {},
   "source": [
    "### Problem statement"
   ]
  },
  {
   "cell_type": "code",
   "execution_count": null,
   "metadata": {
    "collapsed": false,
    "jupyter": {
     "outputs_hidden": false
    }
   },
   "outputs": [],
   "source": [
    "%matplotlib inline\n",
    "import numpy as np\n",
    "from numpy import pi, e, heaviside\n",
    "import matplotlib.pyplot as plt\n",
    "a,b = 0,np.pi\n",
    "def f_Cinf(x): return x * np.sin(x)\n",
    "Iexact_Cinf= np.pi\n",
    "def f_C0(x): return x * np.sin(x) * np.abs(x - e)\n",
    "Iexact_C0 = -e*np.pi + np.pi**2 - 4*np.cos(e) - 2 * e * np.sin(e)\n",
    "def f_disc(x): return x * np.sin(x) * (heaviside(x - e, 0) + .5)\n",
    "Iexact_disc = 1.8232596387548898\n"
   ]
  },
  {
   "cell_type": "markdown",
   "metadata": {},
   "source": [
    "### Numerical method"
   ]
  },
  {
   "cell_type": "code",
   "execution_count": null,
   "metadata": {
    "collapsed": false,
    "jupyter": {
     "outputs_hidden": false
    }
   },
   "outputs": [],
   "source": [
    "# Specify function to integrate here:\n",
    "ff = f_Cinf\n",
    "Iexact = Iexact_Cinf"
   ]
  },
  {
   "cell_type": "code",
   "execution_count": null,
   "metadata": {
    "collapsed": false,
    "jupyter": {
     "outputs_hidden": false
    }
   },
   "outputs": [],
   "source": [
    "xx = np.linspace(a,b,101)\n",
    "### Plot the line\n",
    "plt.plot(xx, ff(xx), lw=2)\n",
    "### Plot the area\n",
    "plt.fill_between(xx, 0, ff(xx), facecolor='gray', alpha=0.4)\n",
    "### Draw the math\n",
    "plt.text(0.5*(a + b), np.max(ff(xx))/3,r\"$\\int_a^b f(x)dx$\", horizontalalignment='center', fontsize=20)"
   ]
  },
  {
   "cell_type": "code",
   "execution_count": null,
   "metadata": {},
   "outputs": [],
   "source": [
    "N = 4\n",
    "xi = np.linspace(a,b,N+1)\n",
    "fi = ff(xi)\n",
    "plt.plot(xx, ff(xx), lw=2)\n",
    "# Plot each trapezoid\n",
    "for i in range(N):\n",
    "    plt.fill_between(xi[i:i+2], 0, fi[i:i+2], facecolor='gray', alpha=0.4)"
   ]
  },
  {
   "cell_type": "code",
   "execution_count": null,
   "metadata": {
    "collapsed": false,
    "jupyter": {
     "outputs_hidden": false
    }
   },
   "outputs": [],
   "source": [
    "def I_trap(f,a,b,N):\n",
    "    sum = 0.\n",
    "    h = (b-a)/N\n",
    "    x = np.linspace(a, b, N+1)\n",
    "    for i in range(N):\n",
    "        sum += 0.5*h*(f(x[i]) + f(x[i+1]))\n",
    "    return sum"
   ]
  },
  {
   "cell_type": "code",
   "execution_count": null,
   "metadata": {
    "collapsed": false,
    "jupyter": {
     "outputs_hidden": false
    }
   },
   "outputs": [],
   "source": [
    "I_trap(ff,a,b,100)"
   ]
  },
  {
   "cell_type": "markdown",
   "metadata": {},
   "source": [
    "### Properties of the numerical approach (error)"
   ]
  },
  {
   "cell_type": "code",
   "execution_count": null,
   "metadata": {
    "collapsed": false,
    "jupyter": {
     "outputs_hidden": false
    }
   },
   "outputs": [],
   "source": [
    "print('%6s %12s %12s' % ('n', 'Q_N', '|Q_N - I|'))\n",
    "for p in range(1,11):\n",
    "    N = 2**p\n",
    "    Iapprox = I_trap(ff,a,b,N)\n",
    "    print('%6d %12.3e %12.3e' % (N, Iapprox, np.abs(Iapprox-Iexact)))"
   ]
  },
  {
   "cell_type": "code",
   "execution_count": null,
   "metadata": {
    "collapsed": false,
    "jupyter": {
     "outputs_hidden": false
    }
   },
   "outputs": [],
   "source": [
    "M = 5\n",
    "NN = np.zeros(M,dtype='int')\n",
    "Qapprox = np.zeros(M)\n",
    "for p in range(1,M+1):\n",
    "    NN[p-1] = 10**p\n",
    "    Qapprox[p-1] = I_trap(ff,a,b,NN[p-1])\n",
    "plt.plot(np.log10(NN), np.log10(np.abs(Qapprox-Iexact)), '-o', label=\"Trapezoidal rule\")\n",
    "plt.plot(np.log10([10, 10**M]), np.log10([10**-2, 10**-(2*M)]), '-.r', label=\"2nd order\")\n",
    "plt.plot(np.log10([10, 10**M]), np.log10([10**-1, 10**-(M)]), '--r', label=\"1st order\")\n",
    "plt.xlabel(r'$\\log_{10}(N)$', fontsize=20)\n",
    "plt.ylabel(r'$\\log_{10}(\\epsilon)$', fontsize=20)\n",
    "plt.legend()\n",
    "plt.grid()"
   ]
  },
  {
   "cell_type": "code",
   "execution_count": null,
   "metadata": {},
   "outputs": [],
   "source": []
  },
  {
   "cell_type": "code",
   "execution_count": null,
   "metadata": {},
   "outputs": [],
   "source": []
  },
  {
   "cell_type": "code",
   "execution_count": null,
   "metadata": {},
   "outputs": [],
   "source": []
  }
 ],
 "metadata": {
  "kernelspec": {
   "display_name": "Python 3",
   "language": "python",
   "name": "python3"
  },
  "language_info": {
   "codemirror_mode": {
    "name": "ipython",
    "version": 3
   },
   "file_extension": ".py",
   "mimetype": "text/x-python",
   "name": "python",
   "nbconvert_exporter": "python",
   "pygments_lexer": "ipython3",
   "version": "3.7.4"
  }
 },
 "nbformat": 4,
 "nbformat_minor": 4
}
