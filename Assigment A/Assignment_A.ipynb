{
 "cells": [
  {
   "cell_type": "markdown",
   "metadata": {},
   "source": [
    "# Assignment A : Jordi & the Dragon\n",
    "\n",
    "It is time to put in practice what you learned in the past weeks. \n",
    "\n",
    "In this first assignment you will be asked to help a clumsy aerospace engineer, Jordi who works in Montblanc, to find the weak spots of the \"Dragon\", a dangerous aircraft that is menacing his country!\n",
    "\n",
    "![The Dragon](dragon.jpg)\n",
    "<h4><center>The Dragon</center></h4>\n",
    "\n",
    "You will help him by programming the algorithms you learned in Modules 1 and 2. \n",
    "\n",
    "In particular you need to substitute with your code all the `raise NotImplementedError` and triple dots `...`.  You are obviously free to change the already designated variables' names (although discouraged), just be careful to change them everywhere they appear.\n",
    "You will have to submit this entire notebook, but the grade will be awarded based on whether you get the correct value at the end.\n",
    "\n",
    "Let's dive in.\n",
    "\n",
    "\n",
    "## Root Finding (Module \\#1)\n",
    "\n",
    "### Introduction\n",
    "During the lectures we learned that the interpolation error is proportional to the nodal polynomial associated to a grid, in particular\n",
    "$$\n",
    "e_n(f;x) := f(x) - \\phi(x) = \\frac{f^{(n+1)}(\\xi)}{(n+1)!}\\,\\omega_{n+1}(x),\n",
    "$$\n",
    "where $\\xi = \\xi(x) \\in [a,b]$ and $\\omega_{n+1}(x)$ is the <i>nodal polynomial</i> associated with the grid $\\mathbf{x}$, defined as,\n",
    "$$\n",
    "\\omega_{n+1}(x) := \\prod_{i=0}^n (x-x_i).\n",
    "$$\n",
    "We don't have control over the derivative of the function  $f^{(n+1)}(\\xi) $, but surely we can control the infinity norm (maximum absolute value) of the nodal polinomial $|| \\omega_{n+1}(x) ||_{\\infty}$ by carefully choosing the points at which we are interpolating.\n",
    "\n",
    "Our Jordi is trying to simulate the flow over the wings of the \"Dragon\" but he cannot find a good grid for it!\n",
    "\n",
    "One of the most common grids used in Finite Elements Methods, is the *Legendre-Guass-Lobatto grid*.  The LGL grid can be defined as the roots of the following polinomial\n",
    "$$ \n",
    "p(x) = (1 - x^2) L_n^{'}(x)\n",
    "$$\n",
    "where $L_n^{'}(x)$ is the first derivative of the $n$-th Legendre polinomial. **Don't worry** about the definition of $L_n$, we will provide all the functions you need!\n",
    "\n",
    "Unfortunately there are not analytical formulas to find the roots of the polynomial $p(x)$, the only option is to find them numerically.\n",
    "\n",
    "Your first task is to find the roots of the polinomial using Newton's method.\n",
    "\n"
   ]
  },
  {
   "cell_type": "markdown",
   "metadata": {},
   "source": [
    "### Helpers Functions\n",
    "Here we provide the functions you will need to find the LGL grid points.  The function `legendre_prime(x, n)` evaluates $L_n'(x)$, and `legendre_double_prime()` similarly $L_n''(x)$.\n"
   ]
  },
  {
   "cell_type": "code",
   "execution_count": 1,
   "metadata": {
    "collapsed": false
   },
   "outputs": [],
   "source": [
    "%matplotlib inline\n",
    "import numpy as np\n",
    "import matplotlib.pyplot as plt\n",
    "from scipy.special import legendre\n",
    "import scipy as sc\n",
    "from functools import partial"
   ]
  },
  {
   "cell_type": "code",
   "execution_count": 2,
   "metadata": {
    "collapsed": true
   },
   "outputs": [],
   "source": [
    "def legendre_prime(x, n):\n",
    "    \"\"\"Calculate the first derivative of the nth Legendre Polynomial recursively.\n",
    "\n",
    "    Args:\n",
    "        x (float, np.array) = domain.\n",
    "        n (int) = degree of Legendre polynomial (L_n).\n",
    "    Return:\n",
    "        legendre_p (np.array) = value first derivative of L_n.\n",
    "    \"\"\"\n",
    "    # P'_n+1 = (2n+1) P_n + P'_n-1\n",
    "    # where P'_0 = 0 and P'_1 = 1\n",
    "    # source: http://www.physicspages.com/2011/03/12/legendre-polynomials-recurrence-relations-ode/\n",
    "    if n == 0:\n",
    "        if isinstance(x, np.ndarray):\n",
    "            return np.zeros(len(x))\n",
    "        elif isinstance(x, (int, float)):\n",
    "            return 0\n",
    "    if n == 1:\n",
    "        if isinstance(x, np.ndarray):\n",
    "            return np.ones(len(x))\n",
    "        elif isinstance(x, (int, float)):\n",
    "            return 1\n",
    "    legendre_p = n * legendre(n - 1)(x) - n * x * legendre(n)(x)\n",
    "    return legendre_p\n",
    "\n",
    "\n",
    "def legendre_double_prime(x, n):\n",
    "    \"\"\"Calculate second derivative legendre polynomial recursively.\n",
    "\n",
    "    Args:\n",
    "        x (float,np.array) = domain.\n",
    "        n (int) = degree of Legendre polynomial (L_n).\n",
    "    Return:\n",
    "        legendre_pp (np.array) = value second derivative of L_n.\n",
    "    \"\"\"\n",
    "    legendre_pp = 2 * x * legendre_prime(x, n) - n * (n + 1) * legendre(n)(x)\n",
    "    return legendre_pp"
   ]
  },
  {
   "cell_type": "markdown",
   "metadata": {},
   "source": [
    "### Define the polynomial \n",
    "To warm up just implement the definition of the polynomial\n",
    "$$ \n",
    "p(x) = (1 - x^2) L_n^{'}(x)\n",
    "$$\n",
    "and its derivative."
   ]
  },
  {
   "cell_type": "code",
   "execution_count": 3,
   "metadata": {
    "collapsed": false
   },
   "outputs": [],
   "source": [
    "def poly(x, n):\n",
    "    \"\"\"Define the polynomial function p(x)\n",
    "    Args:\n",
    "        x (float/np.array) : domain\n",
    "        n (int) : degree of the polynomial\n",
    "    \n",
    "    Returns:\n",
    "        values (float/np.array) : polynomial evaluated in the domain\n",
    "    \"\"\"\n",
    "    # TODO ... define p(x)\n",
    "    raise NotImplementedError"
   ]
  },
  {
   "cell_type": "code",
   "execution_count": 4,
   "metadata": {
    "collapsed": false
   },
   "outputs": [],
   "source": [
    "def poly_prime(x, n):\n",
    "    \"\"\"Define the derivative of the polynomial function p(x)\n",
    "    Args:\n",
    "        x (float/np.array) : domain\n",
    "        n (int) : degree of the polynomial\n",
    "    \n",
    "    Returns:\n",
    "        values (float/np.array) : polynomial evaluated in the domain\n",
    "    \"\"\"\n",
    "    # TODO ... define p'(x)\n",
    "    raise NotImplementedError"
   ]
  },
  {
   "cell_type": "markdown",
   "metadata": {},
   "source": [
    "To make sure you correctly found the first derivative of the polynomial, plot `poly()` and `poly_prime()`, and check visually that the max/min of poly(x, n) corresponds to the roots of poly_prime.  Also, the maximum over $[-1,1]$ of `poly_prime(x, 5)` should be approximately 9.61."
   ]
  },
  {
   "cell_type": "code",
   "execution_count": 5,
   "metadata": {
    "collapsed": false
   },
   "outputs": [
    {
     "ename": "NotImplementedError",
     "evalue": "",
     "output_type": "error",
     "traceback": [
      "\u001b[1;31m---------------------------------------------------------------------------\u001b[0m",
      "\u001b[1;31mNotImplementedError\u001b[0m                       Traceback (most recent call last)",
      "Cell \u001b[1;32mIn[5], line 3\u001b[0m\n\u001b[0;32m      1\u001b[0m \u001b[38;5;66;03m# TODO ... choose n, check your implementation\u001b[39;00m\n\u001b[0;32m      2\u001b[0m xx \u001b[38;5;241m=\u001b[39m np\u001b[38;5;241m.\u001b[39mlinspace(\u001b[38;5;241m-\u001b[39m\u001b[38;5;241m1\u001b[39m,\u001b[38;5;241m1\u001b[39m,\u001b[38;5;241m101\u001b[39m)    \u001b[38;5;66;03m# Grid on [-1,1] for plotting\u001b[39;00m\n\u001b[1;32m----> 3\u001b[0m \u001b[38;5;28;01mraise\u001b[39;00m \u001b[38;5;167;01mNotImplementedError\u001b[39;00m\n",
      "\u001b[1;31mNotImplementedError\u001b[0m: "
     ]
    }
   ],
   "source": [
    "# TODO ... choose n, check your implementation\n",
    "xx = np.linspace(-1,1,101)    # Grid on [-1,1] for plotting\n",
    "raise NotImplementedError"
   ]
  },
  {
   "cell_type": "markdown",
   "metadata": {},
   "source": [
    "### Newton's method\n",
    "We will need Newton's method.  Here you should to implement the 1-d version of Newton.  You should stop the iteration if the maximum number of iterations is exceeded, or if the value of $|f(x_i)|$ become less than a small value. "
   ]
  },
  {
   "cell_type": "code",
   "execution_count": null,
   "metadata": {
    "collapsed": true
   },
   "outputs": [],
   "source": [
    "def newton_method(f, dfdx, x_0, iter_max=100, min_error=1e-14):\n",
    "    \"\"\"Newton method for rootfinding.\n",
    "\n",
    "    Args:\n",
    "        f (function object): function to find root of, f: float -> float\n",
    "        dfdx (function object): derivative of f, dfdx: float -> float\n",
    "        x_0 (float): initial guess of root\n",
    "        iter_max (int): max number of iterations\n",
    "        min_error (float): min allowed error\n",
    "\n",
    "    Returns:\n",
    "        x_tilde (float): approximation of root of f\n",
    "        x_history (np.array): history of convergence, [x_0, x_1, ..., x_N]\n",
    "    \"\"\"\n",
    "    # TODO ... implement Newton with the above conditions\n",
    "    raise NotImplementedError\n",
    "    # ...\n",
    "    return x_tilde, x_history"
   ]
  },
  {
   "cell_type": "markdown",
   "metadata": {},
   "source": [
    "To test the implementation of the method, it is good to check that it finds a true root.  But another good check is that the convergence is quadratic, as the theory predicts.\n",
    "\n",
    "Below we provide a function to plot the convergence history, that allows you to infer the rate of convergence of the root-finding method."
   ]
  },
  {
   "cell_type": "code",
   "execution_count": null,
   "metadata": {
    "collapsed": false
   },
   "outputs": [],
   "source": [
    "def convergence_plot(f, history_convergence):\n",
    "    \"\"\"Display history of convergence.\n",
    "\n",
    "    Args:\n",
    "        f (obj func) = function whose root has been found\n",
    "        history_convergence (np.array) = constains all intermediate points\n",
    "        founds with the fixed pt method\n",
    "    \"\"\"\n",
    "    residual_e, approximate_e = np.empty(\n",
    "        len(history_convergence) - 1), np.empty(len(history_convergence) - 1)\n",
    "    iteration = np.arange(len(history_convergence) - 1)\n",
    "    for i in range(len(history_convergence) - 1):\n",
    "        approximate_e[i] = abs(history_convergence[i] - history_convergence[-1])\n",
    "        residual_e[i] = abs(f(history_convergence[i + 1]) - f(history_convergence[i]))\n",
    "    \n",
    "    plt.plot(iteration, np.log(residual_e), '-o', label=r'$\\epsilon$ - Residual error')\n",
    "    plt.plot(iteration, np.log(approximate_e), '-o', label=r'$e_k$ - Approximate error')\n",
    "    plt.xlabel(r'$n$ - Number iterations'), plt.ylabel(r'log(e)')\n",
    "    plt.legend(), plt.show()\n",
    "\n",
    "# function you can use to test the root finding method\n",
    "def function(x):\n",
    "    return x**3 - 2*x**2 + x -2\n",
    "\n",
    "def function_prime(x):\n",
    "    return 3*x**2 - 4*x + 1\n",
    "\n",
    "x_0 = 1.7\n",
    "x, history_newton = newton_method(function, function_prime, x_0)\n",
    "convergence_plot(function, history_newton)"
   ]
  },
  {
   "cell_type": "markdown",
   "metadata": {},
   "source": [
    "### Grid\n",
    "Finally we will find the Legendre-Gauss-Lobatto Grid! We will often call these points simply *Lobatto points*.\n",
    "\n",
    "You will make use of Newton's method to find the grid points. As initial estimates of the locations of the Lobatto points we will use the Chebychev points (that we also saw in class). \n",
    "\n",
    "Now complete the `gauss_lobatto()` function - which will involve solving a root-find problem for each Lobatto point."
   ]
  },
  {
   "cell_type": "code",
   "execution_count": null,
   "metadata": {
    "collapsed": true
   },
   "outputs": [],
   "source": [
    "def gauss_lobatto(n):\n",
    "    \"\"\"Calculate the roots of (1+x**2)*L'_n(x) and therefore find the n + 1 points of the LGL grid.\n",
    "    Args:\n",
    "        n : # subdivision of the grid -> correspond to n+1 points\n",
    "    Returns:\n",
    "        grid_points (np.array): n + 1 grid points\n",
    "    \"\"\"\n",
    "    # Chebychev nodes as initial guesses for the Newton method.\n",
    "    x_0 = np.cos(np.arange(1., n) / n * np.pi)\n",
    "    \n",
    "    # We fix the degree of the polynomial, pass these functions to the Newton Method.\n",
    "    poly_fn = partial(poly, n=n)\n",
    "    poly_prime_fn = partial(poly_prime, n=n)\n",
    "    \n",
    "    grid_points = np.empty(n + 1)\n",
    "    # Last and first pts are fixed for every n\n",
    "    grid_points[-1] = -1\n",
    "    grid_points[0] = 1\n",
    "    \n",
    "    # Newton's method to find the root. Do to not overwrite the grid_points[0], grid_points[-1], i.e.\n",
    "    # Use x_0[i] to find the grid_points[i+1]\n",
    "    # TODO ... find the grid points using Newton's method for each point\n",
    "    raise NotImplementedError\n",
    "    # ...\n",
    "    return grid_points"
   ]
  },
  {
   "cell_type": "markdown",
   "metadata": {},
   "source": [
    "Let's compare the LGL grid, that Jordi wants to use, with the Chebychev one.  This will also serve to test your code."
   ]
  },
  {
   "cell_type": "code",
   "execution_count": null,
   "metadata": {
    "collapsed": false
   },
   "outputs": [],
   "source": [
    "def chebychev(n):\n",
    "    \"\"\"Calculate roots of the n+1 Chebychev polynomial of the first kind.\n",
    "    \n",
    "    Returns:\n",
    "        nodal_pts (np.array): n + 1 Chebychev grid points\n",
    "    \"\"\"\n",
    "    i = np.arange(0, n+1)\n",
    "    # nodal points in [-1,1]\n",
    "    return np.cos((2.*i + 1.) / (2. * (n+1.)) * np.pi)\n",
    "\n",
    "def plot_grids(grids, labels):\n",
    "    \"\"\"Plot multiple grids.\n",
    "\n",
    "    Args:\n",
    "        grids (list): list of grids\n",
    "        labels (list): labels for each grid (strings)\n",
    "    \"\"\"\n",
    "    for i, grid in enumerate(grids):\n",
    "        plt.plot(grid, np.ones(np.size(grid)) * i, '-o', label=labels[i])\n",
    "    plt.xlabel(r'$\\xi$')\n",
    "    plt.ylim(-1, np.ndim(grids) + 1)\n",
    "    plt.legend(), plt.show()\n",
    "        \n",
    "# plot of the grids\n",
    "n = 5\n",
    "grid_lgl = gauss_lobatto(n)\n",
    "grid_ch = chebychev(n)\n",
    "plot_grids([grid_lgl, grid_ch], ['lobatto grid', 'chebychev grid'])"
   ]
  },
  {
   "cell_type": "markdown",
   "metadata": {},
   "source": [
    "The two grids should be broadly similar, with Lobatto having nodes at the interval end-points (-1 and 1), while Chebychev doesn't.  Vary `n` and check this is still true.\n",
    "\n",
    "Additionally your largest Lobatto point strictly less than `1` should be about `0.76505532` with `n=5`.  If this is not the case there is a mistake in your code.  (Careful that in the points appear in order of largest to smallest in the output of your function.)   Correct it before you continue with the next part."
   ]
  },
  {
   "cell_type": "markdown",
   "metadata": {},
   "source": [
    "Congratulations! You finished the first part of the assignment. "
   ]
  },
  {
   "cell_type": "markdown",
   "metadata": {},
   "source": [
    "## Interpolation (Module \\#2)"
   ]
  },
  {
   "cell_type": "markdown",
   "metadata": {},
   "source": [
    "### Introduction\n",
    "\n",
    "The troubles of Jordi with the Dragon are not yet over. \n",
    "On his FEM-for-Dummies software, he pressed the button to run the simulation of the flow over the Dragon, which gave him the data on the LGL nodes.\n",
    "\n",
    "After the simulation is finished he has the values of some flow properties at Lobatto points on the interval [0, 2].  Since he wants to know the value of the pressure coefficient everywhere along the full chord, he needs someone that is able to interpolate the data.\n",
    "\n",
    "Since he is desperate and does not know what to do you will have to help him out interpolating the data he has.  However, because he's worried about rounding errors, he insists you use a Lagrange basis!"
   ]
  },
  {
   "cell_type": "code",
   "execution_count": null,
   "metadata": {
    "collapsed": true
   },
   "outputs": [],
   "source": [
    "from helpers import get_data"
   ]
  },
  {
   "cell_type": "markdown",
   "metadata": {},
   "source": [
    "First of all let's fetch the data. You will get **N** data points located in the interval [0,2] on the LGL nodes. \n",
    "To get the data fill in your net_id **without** spaces in the string below."
   ]
  },
  {
   "cell_type": "code",
   "execution_count": null,
   "metadata": {
    "collapsed": false
   },
   "outputs": [],
   "source": [
    "# TODO ... fill in your net_id\n",
    "net_id = 'jordi'\n",
    "\n",
    "def scale_grid(grid, a, b):\n",
    "    \"\"\"Linear scaling of the grid from [-1, 1] to [a, b].\n",
    "    \n",
    "    Args:\n",
    "        grid (np.array): grid data points\n",
    "        a, b (float): start, end interval        \n",
    "    Return:\n",
    "        scaled_grid (np.array): grid scaled to interval [a,b]\n",
    "    \"\"\"\n",
    "    scaled_grid = (b - a)/2. * (grid + 1.)\n",
    "    return scaled_grid[::-1]\n",
    "\n",
    "N = 8\n",
    "grid = gauss_lobatto(N)          # LGL grid on [0,1]\n",
    "grid = scale_grid(grid, 0, 2)    # LGL grid on [0,2]\n",
    "\n",
    "# Get the data (you can use this function to get your data on any grid)\n",
    "data = get_data(grid, net_id)"
   ]
  },
  {
   "cell_type": "markdown",
   "metadata": {},
   "source": [
    "### Basis Functions\n",
    "Now you have the data and grid. The final ingredients missing are the basis functions for the interpolation.\n",
    "Implement the *Lagrange basis functions* for the Lobatto nodes.  The function should return the value of *all* basis functions at a single location $x$."
   ]
  },
  {
   "cell_type": "code",
   "execution_count": null,
   "metadata": {
    "collapsed": false
   },
   "outputs": [],
   "source": [
    "def basis_lagrange(x, grid):\n",
    "    \"\"\"\n",
    "    Args:\n",
    "        x (float): Location at which to evaluate the basis.\n",
    "        grid (np.array): Grid nodes for which to construct basis.\n",
    "    Return:\n",
    "        phi (np.array): Basis functions at x, one per grid-point.\n",
    "    \"\"\"\n",
    "    # TODO ... Implement Lagrange basis\n",
    "    raise NotImplementedError"
   ]
  },
  {
   "cell_type": "markdown",
   "metadata": {},
   "source": [
    "Check that you have implemented the basis correctly - you should get the identity matrix if you evaluate the basis at all the Lobatto nodes.\n",
    "\n",
    "Now that we have a Lagrange basis - performing the interpolation is just a matter of computing\n",
    "$$\n",
    "\\phi(x) = \\sum_{i = 0}^{n} f_i l_i(x)\n",
    "$$\n",
    "where $\\phi(x)$ is the interpolating function, $l_i$ the ith Langrange basis function, and $f_i$ the data at point $i$.\n",
    "\n",
    "For plotting Jordi would like to know the interpolated function at 1000 uniformly distributed points along the interval [0, 2]."
   ]
  },
  {
   "cell_type": "code",
   "execution_count": null,
   "metadata": {
    "collapsed": false
   },
   "outputs": [],
   "source": [
    "def reconstruct(x, grid, data, basis):\n",
    "    \"\"\"Reconstruct the interpolating function\n",
    "    Args:\n",
    "        x (np.array): array of locations to evaluate interpolant\n",
    "        grid (np.array): node locations \n",
    "        data (np.array): data values at each node\n",
    "        basis (function object) : your function `basis_lagrange()`\n",
    "    \n",
    "    Returns:\n",
    "        interpolant (np.array) : interpolant function evaluated in a domain of choice\n",
    "    \"\"\"\n",
    "    # TODO ... find the interpolant\n",
    "    raise NotImplementedError\n",
    "    \n",
    "# Plot original function, data and interpolant\n",
    "x_out = np.linspace(0,2,101)\n",
    "plt.plot(x_out, get_data(x_out, net_id))\n",
    "plt.plot(grid, data, 'o')\n",
    "plt.plot(x_out, reconstruct(x_out, grid, data, basis_lagrange))"
   ]
  },
  {
   "cell_type": "markdown",
   "metadata": {},
   "source": [
    "If you interpolated correctly your function should pass through all the data points (check this), and be generally close to (but not exacly equal) to the reference function from `get_data()` as `N` increases.  If this is the case your code is likely correct.\n",
    "\n",
    "Note, the actual function that you are interpolating has high frequency oscillations that are not visible with N=5.  Increase the number of interpolated points, say to 20 or 40. Make sure to plot it!"
   ]
  },
  {
   "cell_type": "markdown",
   "metadata": {},
   "source": [
    "To get points for your assignment you should report the value of your interpolant at `x=1.25` for **`N=8`**.  First check that with a netid of `'jordi'` you get an interpolant value of `1.158397` with these settings.  If you get this value your code is probably correct.  Rerun *your full code* with **your netid**, and report the value of the interpolant at `x=1.25` for **`N=8`** in the following cell:"
   ]
  },
  {
   "cell_type": "markdown",
   "metadata": {},
   "source": [
    "Final answer: Interpolant at x=1.25 is ..."
   ]
  },
  {
   "cell_type": "markdown",
   "metadata": {
    "collapsed": true
   },
   "source": [
    "## Conclusion\n",
    "Thanks to your help, Jordi found the weak spot of the Dragon and in defeating it, he saved his country from chaos!"
   ]
  },
  {
   "cell_type": "code",
   "execution_count": null,
   "metadata": {
    "collapsed": true
   },
   "outputs": [],
   "source": []
  }
 ],
 "metadata": {
  "kernelspec": {
   "display_name": "Python 3",
   "language": "python",
   "name": "python3"
  },
  "language_info": {
   "codemirror_mode": {
    "name": "ipython",
    "version": 3
   },
   "file_extension": ".py",
   "mimetype": "text/x-python",
   "name": "python",
   "nbconvert_exporter": "python",
   "pygments_lexer": "ipython3",
   "version": "3.11.3"
  }
 },
 "nbformat": 4,
 "nbformat_minor": 2
}
